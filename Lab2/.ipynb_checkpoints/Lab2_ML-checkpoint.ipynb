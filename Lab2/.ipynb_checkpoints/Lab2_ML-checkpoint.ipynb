{
 "cells": [
  {
   "cell_type": "markdown",
   "id": "ca02096b-1105-4377-9bbe-19cb2d167061",
   "metadata": {},
   "source": [
    "2. Przygotowanie Danych"
   ]
  },
  {
   "cell_type": "code",
   "execution_count": 1,
   "id": "acbceeb8-ed2a-44d5-975c-7451e2585206",
   "metadata": {},
   "outputs": [],
   "source": [
    "from sklearn.datasets import fetch_openml\n",
    "mnist = fetch_openml('mnist_784', version=1)"
   ]
  },
  {
   "cell_type": "markdown",
   "id": "bab290f4-6ee3-4b7a-b7cb-eb71a315a7a5",
   "metadata": {},
   "source": [
    "Obejrzyj zbiory cech oraz etykiet w pobranym zbiorze danych."
   ]
  },
  {
   "cell_type": "code",
   "execution_count": 2,
   "id": "57191979-58ec-4c80-a057-38fa3bdc173d",
   "metadata": {},
   "outputs": [
    {
     "name": "stdout",
     "output_type": "stream",
     "text": [
      "dict_keys(['data', 'target', 'frame', 'categories', 'feature_names', 'target_names', 'DESCR', 'details', 'url'])\n"
     ]
    }
   ],
   "source": [
    "print(mnist.keys())"
   ]
  },
  {
   "cell_type": "markdown",
   "id": "f1bfdffd-d0f1-4f62-97fb-7ed294f0927a",
   "metadata": {},
   "source": [
    "przykładową „bitmapę” na miejscu 12"
   ]
  },
  {
   "cell_type": "code",
   "execution_count": 3,
   "id": "f2e8518c-68e4-41a0-bdf7-47858280bdab",
   "metadata": {},
   "outputs": [
    {
     "name": "stdout",
     "output_type": "stream",
     "text": [
      "[[0 0 0 0 0 0 0 0 0 0 0 0 0 0 0 0 0 0 0 0 0 0 0 0 0 0 0 0]\n",
      " [0 0 0 0 0 0 0 0 0 0 0 0 0 0 0 0 0 0 0 0 0 0 0 0 0 0 0 0]\n",
      " [0 0 0 0 0 0 0 0 0 0 0 0 0 0 0 0 0 0 0 0 0 0 0 0 0 0 0 0]\n",
      " [0 0 0 0 0 0 0 0 0 0 0 0 0 0 0 0 0 0 0 0 0 0 0 0 0 0 0 0]\n",
      " [0 0 0 0 0 0 0 0 0 0 0 0 0 0 0 0 0 0 0 0 0 0 0 0 0 0 0 0]\n",
      " [0 0 0 1 1 1 1 1 1 1 1 1 1 1 1 1 0 0 0 0 0 0 0 0 0 0 0 0]\n",
      " [0 0 0 1 1 1 1 1 1 1 1 1 1 1 1 1 1 1 1 0 0 0 0 0 0 0 0 0]\n",
      " [0 0 0 1 1 1 1 1 1 1 1 1 1 1 1 1 1 1 1 0 0 0 0 0 0 0 0 0]\n",
      " [0 0 0 1 1 1 1 1 0 0 0 0 0 0 1 1 1 1 1 0 0 0 0 0 0 0 0 0]\n",
      " [0 0 0 0 0 0 0 0 0 0 0 0 0 0 1 1 1 1 1 0 0 0 0 0 0 0 0 0]\n",
      " [0 0 0 0 0 0 0 0 0 0 0 0 1 1 1 1 1 1 0 0 0 0 0 0 0 0 0 0]\n",
      " [0 0 0 0 0 0 0 0 0 0 0 1 1 1 1 1 1 1 0 0 0 0 0 0 0 0 0 0]\n",
      " [0 0 0 0 0 0 0 0 0 0 1 1 1 1 1 1 1 1 0 0 0 0 0 0 0 0 0 0]\n",
      " [0 0 0 0 0 0 0 0 0 0 1 1 1 1 1 1 1 1 1 1 0 0 0 0 0 0 0 0]\n",
      " [0 0 0 0 0 0 0 0 0 0 1 1 1 1 1 1 1 1 1 1 1 1 0 0 0 0 0 0]\n",
      " [0 0 0 0 0 0 0 0 0 0 0 0 1 1 1 1 1 1 1 1 1 1 1 0 0 0 0 0]\n",
      " [0 0 0 0 0 0 0 0 0 0 0 0 0 0 0 0 1 1 1 1 1 1 1 0 0 0 0 0]\n",
      " [0 0 0 0 0 0 0 0 0 0 0 0 0 0 0 0 0 1 1 1 1 1 1 0 0 0 0 0]\n",
      " [0 0 0 0 0 0 0 0 0 0 0 0 0 0 0 0 0 0 1 1 1 1 1 0 0 0 0 0]\n",
      " [0 0 0 0 0 0 0 0 1 1 1 0 0 0 0 0 0 1 1 1 1 1 1 0 0 0 0 0]\n",
      " [0 0 0 0 0 0 0 1 1 1 1 0 0 0 0 0 1 1 1 1 1 1 0 0 0 0 0 0]\n",
      " [0 0 0 0 0 0 0 1 1 1 1 1 0 0 1 1 1 1 1 1 1 1 0 0 0 0 0 0]\n",
      " [0 0 0 0 0 0 0 1 1 1 1 1 1 1 1 1 1 1 1 1 1 0 0 0 0 0 0 0]\n",
      " [0 0 0 0 0 0 0 1 1 1 1 1 1 1 1 1 1 1 1 1 0 0 0 0 0 0 0 0]\n",
      " [0 0 0 0 0 0 0 0 1 1 1 1 1 1 1 1 1 1 0 0 0 0 0 0 0 0 0 0]\n",
      " [0 0 0 0 0 0 0 0 0 0 0 0 0 0 0 0 0 0 0 0 0 0 0 0 0 0 0 0]\n",
      " [0 0 0 0 0 0 0 0 0 0 0 0 0 0 0 0 0 0 0 0 0 0 0 0 0 0 0 0]\n",
      " [0 0 0 0 0 0 0 0 0 0 0 0 0 0 0 0 0 0 0 0 0 0 0 0 0 0 0 0]]\n"
     ]
    }
   ],
   "source": [
    "import numpy as np\n",
    "import pandas as pd\n",
    "print((np.array(mnist.data.loc[12]).reshape(28, 28) > 0).astype(int))"
   ]
  },
  {
   "cell_type": "markdown",
   "id": "9ad3960a-d2d6-4b25-a23d-80590f7c0851",
   "metadata": {},
   "source": [
    "3. Zbior uczacy i testowy\n",
    "Posortuj oba zbiory tak, aby rekordy były uporządkowane według cyfry którą reprezentują."
   ]
  },
  {
   "cell_type": "code",
   "execution_count": 4,
   "id": "37c2d2a3-7f7e-4849-9858-1156347f9c86",
   "metadata": {},
   "outputs": [],
   "source": [
    "X, y = mnist[\"data\"], mnist[\"target\"].astype(np.uint8)\n",
    "\n",
    "y_sorted = y.sort_values()\n",
    "X_sorted = X.reindex(y_sorted.index)"
   ]
  },
  {
   "cell_type": "code",
   "execution_count": 5,
   "id": "909b3219-076d-4bc6-8344-dba6b7d7a4e4",
   "metadata": {},
   "outputs": [
    {
     "name": "stdout",
     "output_type": "stream",
     "text": [
      "(56000, 784) (56000,)\n",
      "(14000, 784) (14000,)\n"
     ]
    }
   ],
   "source": [
    "X_train_s, X_test_s = X_sorted[:56000], X_sorted[56000:]\n",
    "y_train_s, y_test_s = y_sorted[:56000], y_sorted[56000:]\n",
    "print(X_train_s.shape, y_train_s.shape)\n",
    "print(X_test_s.shape, y_test_s.shape)"
   ]
  },
  {
   "cell_type": "markdown",
   "id": "c67fd077-824b-4357-8ebd-a75f6cb8b19e",
   "metadata": {},
   "source": [
    "Sprawdź jakie klasy znajdują się w zbiorach.\n",
    "Jak widzać poniżej przez podział na zbiory posortowane, zbiór treningowy i testowy mają inne liczby w sobie."
   ]
  },
  {
   "cell_type": "code",
   "execution_count": 6,
   "id": "cc862548-ecd5-4360-8c7a-71c1a57d05c9",
   "metadata": {},
   "outputs": [
    {
     "name": "stdout",
     "output_type": "stream",
     "text": [
      "[0 1 2 3 4 5 6 7]\n",
      "[7 8 9]\n"
     ]
    }
   ],
   "source": [
    "print(np.unique(y_train_s.values))\n",
    "print(np.unique(y_test_s.values))"
   ]
  },
  {
   "cell_type": "code",
   "execution_count": 7,
   "id": "f264bd82-9499-462b-a48c-4f34a4a445bc",
   "metadata": {},
   "outputs": [],
   "source": [
    "from sklearn.model_selection import train_test_split\n",
    "X_train, X_test, y_train, y_test = train_test_split(X_sorted, y_sorted, test_size=0.20, random_state=42)"
   ]
  },
  {
   "cell_type": "markdown",
   "id": "7772b9c2",
   "metadata": {},
   "source": [
    "Teraz na nowo je wymieszaliśmy i w obu zbiorach znajdują się rózne liczby:"
   ]
  },
  {
   "cell_type": "code",
   "execution_count": 8,
   "id": "758abbcd-7f5b-4871-91c4-13a84c65b26b",
   "metadata": {},
   "outputs": [
    {
     "name": "stdout",
     "output_type": "stream",
     "text": [
      "[0 1 2 3 4 5 6 7 8 9]\n",
      "[0 1 2 3 4 5 6 7 8 9]\n"
     ]
    }
   ],
   "source": [
    "print(np.unique(y_train.values))\n",
    "print(np.unique(y_test.values))"
   ]
  },
  {
   "cell_type": "code",
   "execution_count": 9,
   "id": "c52d5f08-3736-47da-a689-58fbb25a770b",
   "metadata": {},
   "outputs": [
    {
     "name": "stdout",
     "output_type": "stream",
     "text": [
      "(56000, 784) (56000,)\n",
      "(14000, 784) (14000,)\n"
     ]
    }
   ],
   "source": [
    "print(X_train.shape, y_train.shape)\n",
    "print(X_test.shape, y_test.shape)"
   ]
  },
  {
   "cell_type": "markdown",
   "id": "cb5b6463-4db9-4f64-b02a-92f373ed3cd7",
   "metadata": {},
   "source": [
    "4. Uczenie, jedna klasa"
   ]
  },
  {
   "cell_type": "code",
   "execution_count": 10,
   "id": "385a7ee8-5bd6-49e8-8659-4de65d7c688b",
   "metadata": {},
   "outputs": [],
   "source": [
    "y_train_0 = (y_train == 0)\n",
    "y_test_0 = (y_test == 0)"
   ]
  },
  {
   "cell_type": "code",
   "execution_count": 11,
   "id": "48d75a1a-25a2-4119-9168-73c7f51eb786",
   "metadata": {},
   "outputs": [
    {
     "data": {
      "text/plain": [
       "SGDClassifier(random_state=42)"
      ]
     },
     "execution_count": 11,
     "metadata": {},
     "output_type": "execute_result"
    }
   ],
   "source": [
    "from sklearn.linear_model import SGDClassifier\n",
    "sgd_clf = SGDClassifier(random_state=42)\n",
    "sgd_clf.fit(X_train, y_train_0)\n"
   ]
  },
  {
   "cell_type": "code",
   "execution_count": 12,
   "id": "907e54bd",
   "metadata": {},
   "outputs": [
    {
     "name": "stdout",
     "output_type": "stream",
     "text": [
      "[False  True False]\n",
      "33    9\n",
      "34    0\n",
      "35    5\n",
      "Name: class, dtype: category\n",
      "Categories (10, object): ['0', '1', '2', '3', ..., '6', '7', '8', '9']\n"
     ]
    }
   ],
   "source": [
    "print(sgd_clf.predict(mnist.data)[33:36])\n",
    "print(mnist.target[33:36])"
   ]
  },
  {
   "cell_type": "code",
   "execution_count": 13,
   "id": "ed1967d3",
   "metadata": {},
   "outputs": [
    {
     "name": "stdout",
     "output_type": "stream",
     "text": [
      "[False False False ... False  True False]\n",
      "56000\n"
     ]
    }
   ],
   "source": [
    "from sklearn.model_selection import cross_val_predict\n",
    "from sklearn.metrics import confusion_matrix\n",
    "from sklearn.model_selection import cross_val_predict, cross_val_score\n",
    "from sklearn.metrics import confusion_matrix, precision_score, recall_score\n",
    "\n",
    "y_train_pred = cross_val_predict(sgd_clf, X_train, y_train_0, cv=3, n_jobs=-1)\n",
    "print(y_train_pred)\n",
    "print(len(y_train_pred))"
   ]
  },
  {
   "cell_type": "code",
   "execution_count": 14,
   "id": "4470bf2c",
   "metadata": {},
   "outputs": [
    {
     "name": "stdout",
     "output_type": "stream",
     "text": [
      "[0.9832142857142857, 0.9818571428571429]\n"
     ]
    }
   ],
   "source": [
    "import pickle\n",
    "acc = [sgd_clf.score(X_train, y_train_0), sgd_clf.score(X_test, y_test_0)]\n",
    "print(acc)\n",
    "with open('sgd_acc.pkl', 'wb') as f:\n",
    "    pickle.dump(acc, f, pickle.HIGHEST_PROTOCOL)"
   ]
  },
  {
   "cell_type": "code",
   "execution_count": 15,
   "id": "20d614bb",
   "metadata": {},
   "outputs": [
    {
     "name": "stdout",
     "output_type": "stream",
     "text": [
      "[0.98842878 0.98805378 0.98799957]\n"
     ]
    }
   ],
   "source": [
    "score = cross_val_score(sgd_clf, X_train, y_train_0, cv=3, scoring=\"accuracy\", n_jobs=-1)\n",
    "print(score)\n",
    "with open('sgd_cva.pkl','wb') as f: pickle.dump(score, f)"
   ]
  },
  {
   "cell_type": "code",
   "execution_count": 16,
   "id": "d459a29c",
   "metadata": {},
   "outputs": [
    {
     "name": "stdout",
     "output_type": "stream",
     "text": [
      "[[50201   261]\n",
      " [  402  5136]]\n"
     ]
    }
   ],
   "source": [
    "print(confusion_matrix(y_train_0, y_train_pred))"
   ]
  },
  {
   "cell_type": "markdown",
   "id": "7e890847",
   "metadata": {},
   "source": [
    "5. Uczenie, wiele klas"
   ]
  },
  {
   "cell_type": "code",
   "execution_count": 17,
   "id": "01ab6159",
   "metadata": {
    "scrolled": true
   },
   "outputs": [
    {
     "data": {
      "text/plain": [
       "SGDClassifier(random_state=42)"
      ]
     },
     "execution_count": 17,
     "metadata": {},
     "output_type": "execute_result"
    }
   ],
   "source": [
    "sgd_m_clf = SGDClassifier(random_state=42)\n",
    "sgd_m_clf.fit(X_train, y_train)"
   ]
  },
  {
   "cell_type": "code",
   "execution_count": 18,
   "id": "119b9675",
   "metadata": {},
   "outputs": [
    {
     "name": "stdout",
     "output_type": "stream",
     "text": [
      "[0.88048428 0.87132373 0.8772099 ]\n"
     ]
    }
   ],
   "source": [
    "\n",
    "print(cross_val_score(sgd_m_clf, X_train, y_train,cv=3, scoring=\"accuracy\", n_jobs=-1))\n",
    "y_train_pred = cross_val_predict(sgd_m_clf, X_train, y_train, cv=3, n_jobs=-1)"
   ]
  },
  {
   "cell_type": "code",
   "execution_count": 19,
   "id": "00f00ccd",
   "metadata": {},
   "outputs": [
    {
     "name": "stdout",
     "output_type": "stream",
     "text": [
      "[[5295    2   22   42   16   26   37    6   71   21]\n",
      " [   3 6098   39   19    4   18    6    9   64   25]\n",
      " [  53   74 4798  131   65   18   86   65  273   38]\n",
      " [  41   30  157 4888   12  179   24   50  260  106]\n",
      " [  22   30   30   14 4691   22   69   23  156  401]\n",
      " [  93   29   41  251   67 3806  113   20  477  106]\n",
      " [  53   28   45   10   59   63 5114    5   92    8]\n",
      " [  27   32   48   40   67   10    6 5154  108  358]\n",
      " [  49  122   67  146   32  288   35   15 4518  183]\n",
      " [  31   29   18   66  287   42    5  217  178 4713]]\n"
     ]
    }
   ],
   "source": [
    "conf_mx = confusion_matrix(y_train, y_train_pred)\n",
    "print(conf_mx)"
   ]
  },
  {
   "cell_type": "code",
   "execution_count": 20,
   "id": "f1bdfa12",
   "metadata": {},
   "outputs": [],
   "source": [
    "with open('sgd_cmx.pkl','wb') as f: pickle.dump(conf_mx, f)"
   ]
  }
 ],
 "metadata": {
  "kernelspec": {
   "display_name": "Python 3 (ipykernel)",
   "language": "python",
   "name": "python3"
  },
  "language_info": {
   "codemirror_mode": {
    "name": "ipython",
    "version": 3
   },
   "file_extension": ".py",
   "mimetype": "text/x-python",
   "name": "python",
   "nbconvert_exporter": "python",
   "pygments_lexer": "ipython3",
   "version": "3.9.12"
  }
 },
 "nbformat": 4,
 "nbformat_minor": 5
}
