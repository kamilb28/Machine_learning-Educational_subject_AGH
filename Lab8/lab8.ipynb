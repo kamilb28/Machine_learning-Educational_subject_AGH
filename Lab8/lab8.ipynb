{
 "cells": [
  {
   "cell_type": "markdown",
   "id": "ce867f8c-e351-44cd-8d17-04027112e2aa",
   "metadata": {
    "tags": []
   },
   "source": [
    "# Laboratorium 8 - Redukcja wymiarow"
   ]
  },
  {
   "cell_type": "code",
   "execution_count": 1,
   "id": "f533ac4a-57ff-4a1d-ad7c-0231199bc99f",
   "metadata": {},
   "outputs": [],
   "source": [
    "import numpy as np"
   ]
  },
  {
   "cell_type": "markdown",
   "id": "37f7d65f-bee2-4a91-8bde-85cf0f521aa6",
   "metadata": {
    "tags": []
   },
   "source": [
    "## Przygotowanie danych"
   ]
  },
  {
   "cell_type": "code",
   "execution_count": 2,
   "id": "c6e6c381-25ed-4a48-a4dc-324314f5a959",
   "metadata": {},
   "outputs": [],
   "source": [
    "from sklearn import datasets\n",
    "data_breast_cancer = datasets.load_breast_cancer()"
   ]
  },
  {
   "cell_type": "code",
   "execution_count": 3,
   "id": "8f50fbf2-c987-48d7-ba5c-22db188e4fee",
   "metadata": {},
   "outputs": [],
   "source": [
    "from sklearn.datasets import load_iris\n",
    "data_iris = load_iris()"
   ]
  },
  {
   "cell_type": "markdown",
   "id": "51967034-8e5b-4772-867f-0ee54e824156",
   "metadata": {
    "tags": []
   },
   "source": [
    "## Cwiczenia"
   ]
  },
  {
   "cell_type": "markdown",
   "id": "595ce9c0-766a-452f-adca-a6cf3b9cb5a4",
   "metadata": {
    "tags": []
   },
   "source": [
    "### 1. StandardScaler() i PCA - breast cancer"
   ]
  },
  {
   "cell_type": "code",
   "execution_count": 4,
   "id": "2dd1eddd-1c8e-41b5-8bae-87a83c4cfe47",
   "metadata": {},
   "outputs": [],
   "source": [
    "from sklearn.preprocessing import StandardScaler\n",
    "scaler = StandardScaler()\n",
    "X_scaler = scaler.fit_transform(data_breast_cancer[\"data\"])"
   ]
  },
  {
   "cell_type": "code",
   "execution_count": 5,
   "id": "893c8de8-f585-487a-9b10-923c5130c6f5",
   "metadata": {},
   "outputs": [
    {
     "name": "stdout",
     "output_type": "stream",
     "text": [
      "[0.44272026 0.18971182 0.09393163 0.06602135 0.05495768 0.04024522\n",
      " 0.02250734]\n"
     ]
    }
   ],
   "source": [
    "from sklearn.decomposition import PCA\n",
    "pca = PCA(n_components=0.9)\n",
    "X_pca = pca.fit_transform(X_scaler)\n",
    "print(pca.explained_variance_ratio_)\n",
    "pca_bc= list(pca.explained_variance_ratio_)"
   ]
  },
  {
   "cell_type": "code",
   "execution_count": 6,
   "id": "31d5f1c7-e3e3-487f-869e-2e36a6afff8b",
   "metadata": {},
   "outputs": [
    {
     "name": "stdout",
     "output_type": "stream",
     "text": [
      "[0.44272025607526383, 0.18971182044033064, 0.09393163257431361, 0.06602134915470156, 0.05495768492346277, 0.04024522039883344, 0.02250733712982508]\n"
     ]
    }
   ],
   "source": [
    "import pickle\n",
    "with open('pca_bc.pkl','wb') as f: pickle.dump(pca_bc, f)\n",
    "\n",
    "#sprawdzenie zawartosci pliku\n",
    "with open('pca_bc.pkl','rb') as f: print(pickle.load(f))"
   ]
  },
  {
   "cell_type": "code",
   "execution_count": 7,
   "id": "adda1936-4f94-474b-8244-4fbc7e05ec91",
   "metadata": {},
   "outputs": [],
   "source": [
    "idx_bc = []\n",
    "for row in pca.components_:\n",
    "    max_value_index = np.argmax(np.abs(row))\n",
    "    idx_bc.append(max_value_index)"
   ]
  },
  {
   "cell_type": "code",
   "execution_count": 8,
   "id": "416b88f8-1c39-4bd6-9df7-325d4f8e7fa9",
   "metadata": {},
   "outputs": [
    {
     "name": "stdout",
     "output_type": "stream",
     "text": [
      "[7, 9, 11, 21, 4, 28, 29]\n"
     ]
    }
   ],
   "source": [
    "with open('idx_bc.pkl','wb') as f: pickle.dump(idx_bc, f)\n",
    "\n",
    "#sprawdzenie zawartosci pliku\n",
    "with open('idx_bc.pkl','rb') as f: print(pickle.load(f))"
   ]
  },
  {
   "cell_type": "markdown",
   "id": "bd4e7241-4629-4e20-a22b-b0a6635fda97",
   "metadata": {
    "tags": []
   },
   "source": [
    "### 2. StandardScaler() i PCA - iris"
   ]
  },
  {
   "cell_type": "code",
   "execution_count": 9,
   "id": "b6cd84ba-495a-400b-a8a8-11154d26d592",
   "metadata": {},
   "outputs": [],
   "source": [
    "scaler = StandardScaler()\n",
    "X_scaler = scaler.fit_transform(data_iris[\"data\"])"
   ]
  },
  {
   "cell_type": "code",
   "execution_count": 10,
   "id": "18e2f71e-ca1b-46c4-ad32-5779d0c7ac99",
   "metadata": {},
   "outputs": [
    {
     "name": "stdout",
     "output_type": "stream",
     "text": [
      "[0.72962445 0.22850762]\n"
     ]
    }
   ],
   "source": [
    "pca = PCA(n_components=0.9)\n",
    "X_pca = pca.fit_transform(X_scaler)\n",
    "print(pca.explained_variance_ratio_)\n",
    "pca_ir= list(pca.explained_variance_ratio_)"
   ]
  },
  {
   "cell_type": "code",
   "execution_count": 11,
   "id": "71f747b5-d524-41b7-9c5b-e79260b0c484",
   "metadata": {},
   "outputs": [
    {
     "name": "stdout",
     "output_type": "stream",
     "text": [
      "[0.7296244541329985, 0.2285076178670179]\n"
     ]
    }
   ],
   "source": [
    "with open('pca_ir.pkl','wb') as f: pickle.dump(pca_ir, f)\n",
    "\n",
    "#sprawdzenie zawartosci pliku\n",
    "with open('pca_ir.pkl','rb') as f: print(pickle.load(f))"
   ]
  },
  {
   "cell_type": "code",
   "execution_count": 12,
   "id": "1c8485cf-6ea4-4eef-bb49-a6f5b2a7999b",
   "metadata": {},
   "outputs": [],
   "source": [
    "idx_ir = []\n",
    "for row in pca.components_:\n",
    "    max_value_index = np.argmax(np.abs(row))\n",
    "    idx_ir.append(max_value_index)"
   ]
  },
  {
   "cell_type": "code",
   "execution_count": 13,
   "id": "4adc76a2-b7ff-4dd7-9d49-f4f4b5aece3f",
   "metadata": {},
   "outputs": [
    {
     "name": "stdout",
     "output_type": "stream",
     "text": [
      "[2, 1]\n"
     ]
    }
   ],
   "source": [
    "with open('idx_ir.pkl','wb') as f: pickle.dump(idx_ir, f)\n",
    "\n",
    "#sprawdzenie zawartosci pliku\n",
    "with open('idx_ir.pkl','rb') as f: print(pickle.load(f))"
   ]
  },
  {
   "cell_type": "code",
   "execution_count": null,
   "id": "5f3a0a80-9996-4216-9f3f-2653bb0485ab",
   "metadata": {},
   "outputs": [],
   "source": []
  }
 ],
 "metadata": {
  "kernelspec": {
   "display_name": "Python 3 (ipykernel)",
   "language": "python",
   "name": "python3"
  },
  "language_info": {
   "codemirror_mode": {
    "name": "ipython",
    "version": 3
   },
   "file_extension": ".py",
   "mimetype": "text/x-python",
   "name": "python",
   "nbconvert_exporter": "python",
   "pygments_lexer": "ipython3",
   "version": "3.9.12"
  }
 },
 "nbformat": 4,
 "nbformat_minor": 5
}
