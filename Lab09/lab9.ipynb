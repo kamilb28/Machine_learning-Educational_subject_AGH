{
 "cells": [
  {
   "cell_type": "markdown",
   "id": "2ffd3095-460f-4010-8565-181edeb0e11e",
   "metadata": {},
   "source": [
    "# Lab9: Wprowadzenie do sieci neuronowych"
   ]
  },
  {
   "cell_type": "code",
   "execution_count": 1,
   "id": "116c6562-c52f-4a68-8225-0d90cd26a292",
   "metadata": {},
   "outputs": [],
   "source": [
    "import pandas as pd\n",
    "import numpy as np"
   ]
  },
  {
   "cell_type": "markdown",
   "id": "99046b14-ea62-4aa8-a1de-da9467f87727",
   "metadata": {},
   "source": [
    "### Perceptrony i irysy"
   ]
  },
  {
   "cell_type": "code",
   "execution_count": 2,
   "id": "aceb354c-d8c2-4894-a1f2-ce7dcb57dc74",
   "metadata": {},
   "outputs": [],
   "source": [
    "from sklearn.datasets import load_iris\n",
    "iris = load_iris(as_frame = True)"
   ]
  },
  {
   "cell_type": "code",
   "execution_count": 3,
   "id": "4f19bc82-5770-4570-82dd-19d39e02c8e9",
   "metadata": {},
   "outputs": [
    {
     "data": {
      "text/plain": [
       "<AxesSubplot:xlabel='petal length (cm)', ylabel='petal width (cm)'>"
      ]
     },
     "execution_count": 3,
     "metadata": {},
     "output_type": "execute_result"
    },
    {
     "data": {
      "image/png": "[encoded data removed]",
      "text/plain": [
       "<Figure size 432x288 with 2 Axes>"
      ]
     },
     "metadata": {
      "needs_background": "light"
     },
     "output_type": "display_data"
    }
   ],
   "source": [
    "pd.concat([iris.data, iris.target], axis=1).plot.scatter(\n",
    "    x='petal length (cm)',\n",
    "    y='petal width (cm)',\n",
    "    c='target',\n",
    "    colormap='viridis'\n",
    ")"
   ]
  },
  {
   "cell_type": "code",
   "execution_count": 4,
   "id": "3a36af0a-f672-4337-a341-cc21e8ec84cd",
   "metadata": {},
   "outputs": [],
   "source": [
    "from sklearn.model_selection import train_test_split\n",
    "X_train, X_test, y_train, y_test = train_test_split(iris.data[[\"petal length (cm)\", \"petal width (cm)\"]], iris.target, \n",
    "                                                    test_size=0.20, random_state=42)"
   ]
  },
  {
   "cell_type": "code",
   "execution_count": 5,
   "id": "ec8ee6af-f692-4e9b-aeef-249737ad2394",
   "metadata": {},
   "outputs": [],
   "source": [
    "from sklearn.linear_model import Perceptron\n",
    "from sklearn.metrics import accuracy_score"
   ]
  },
  {
   "cell_type": "code",
   "execution_count": 6,
   "id": "20e31728-a8a4-4ae9-98b6-0a01234807c9",
   "metadata": {},
   "outputs": [],
   "source": [
    "# Dokładość dla każdej z klas zapisz jako lista krotek [(a_tr, a_te), ...]\n",
    "per_acc = []\n",
    "# wagi dla poszczególnych trzech klas zapisz jako listę 3-elementowych krotek\n",
    "per_wght = []"
   ]
  },
  {
   "cell_type": "markdown",
   "id": "d2f177e0-6e54-491e-aa53-fe08cf4b7fbe",
   "metadata": {},
   "source": [
    "----"
   ]
  },
  {
   "cell_type": "code",
   "execution_count": 7,
   "id": "3ac95475-c637-45c0-9de8-1a8a211a312c",
   "metadata": {},
   "outputs": [
    {
     "data": {
      "text/plain": [
       "Perceptron()"
      ]
     },
     "execution_count": 7,
     "metadata": {},
     "output_type": "execute_result"
    }
   ],
   "source": [
    "# 0 -> true\n",
    "y_0_train = (y_train == 0).astype(int)\n",
    "y_0_test = (y_test == 0).astype(int)\n",
    "\n",
    "per_clf = Perceptron()\n",
    "per_clf.fit(X_train, y_0_train)"
   ]
  },
  {
   "cell_type": "code",
   "execution_count": 8,
   "id": "7f7ad996-4c28-44ea-be7c-cd2f64f977f3",
   "metadata": {},
   "outputs": [
    {
     "data": {
      "text/plain": [
       "array([4.])"
      ]
     },
     "execution_count": 8,
     "metadata": {},
     "output_type": "execute_result"
    }
   ],
   "source": [
    "per_clf.coef_\n",
    "per_clf.intercept_"
   ]
  },
  {
   "cell_type": "code",
   "execution_count": 9,
   "id": "c63b509c-9996-4de5-aef4-d052ef37b085",
   "metadata": {},
   "outputs": [
    {
     "name": "stdout",
     "output_type": "stream",
     "text": [
      "1.0\n",
      "1.0\n"
     ]
    }
   ],
   "source": [
    "per_acc.append((accuracy_score(y_0_train, per_clf.predict(X_train)),\n",
    "               accuracy_score(y_0_test, per_clf.predict(X_test))))\n",
    "print(accuracy_score(y_0_train, per_clf.predict(X_train)))\n",
    "print(accuracy_score(y_0_test, per_clf.predict(X_test)))"
   ]
  },
  {
   "cell_type": "code",
   "execution_count": 10,
   "id": "221f2230-55f1-4383-9b78-f0232a2ec1fd",
   "metadata": {},
   "outputs": [
    {
     "name": "stdout",
     "output_type": "stream",
     "text": [
      "[(4.0, -1.4999999999999993, -1.6999999999999997)]\n"
     ]
    }
   ],
   "source": [
    "per_wght.append((per_clf.intercept_[0],per_clf.coef_[0][0],per_clf.coef_[0][1]))\n",
    "print(per_wght)"
   ]
  },
  {
   "cell_type": "markdown",
   "id": "b75c44a3-9b94-42f3-b7e0-eff1c6dc1990",
   "metadata": {},
   "source": [
    "----"
   ]
  },
  {
   "cell_type": "code",
   "execution_count": 11,
   "id": "fbe7299b-e44d-43a9-bcc9-afa01cfe5cd0",
   "metadata": {},
   "outputs": [
    {
     "data": {
      "text/plain": [
       "Perceptron()"
      ]
     },
     "execution_count": 11,
     "metadata": {},
     "output_type": "execute_result"
    }
   ],
   "source": [
    "# 1 -> true\n",
    "y_1_train = (y_train == 1).astype(int)\n",
    "y_1_test = (y_test == 1).astype(int)\n",
    "\n",
    "per_clf = Perceptron()\n",
    "per_clf.fit(X_train, y_1_train)"
   ]
  },
  {
   "cell_type": "code",
   "execution_count": 12,
   "id": "9fc254d0-773b-45a4-8b72-c90ee65d031f",
   "metadata": {},
   "outputs": [
    {
     "name": "stdout",
     "output_type": "stream",
     "text": [
      "0.6416666666666667\n",
      "0.7\n"
     ]
    }
   ],
   "source": [
    "per_acc.append((accuracy_score(y_1_train, per_clf.predict(X_train)),\n",
    "               accuracy_score(y_1_test, per_clf.predict(X_test))))\n",
    "print(accuracy_score(y_1_train, per_clf.predict(X_train)))\n",
    "print(accuracy_score(y_1_test, per_clf.predict(X_test)))"
   ]
  },
  {
   "cell_type": "code",
   "execution_count": 13,
   "id": "c6170613-0936-4eb3-a5ff-157d8961676c",
   "metadata": {},
   "outputs": [
    {
     "name": "stdout",
     "output_type": "stream",
     "text": [
      "[(4.0, -1.4999999999999993, -1.6999999999999997), (-9.0, 6.800000000000028, -16.099999999999973)]\n"
     ]
    }
   ],
   "source": [
    "per_wght.append((per_clf.intercept_[0],per_clf.coef_[0][0],per_clf.coef_[0][1]))\n",
    "print(per_wght)"
   ]
  },
  {
   "cell_type": "markdown",
   "id": "87695d63-901a-436a-a509-8df06e67714f",
   "metadata": {},
   "source": [
    "----"
   ]
  },
  {
   "cell_type": "code",
   "execution_count": 14,
   "id": "22819f39-8f75-4b02-8a18-0e520ef66a2f",
   "metadata": {},
   "outputs": [
    {
     "data": {
      "text/plain": [
       "Perceptron()"
      ]
     },
     "execution_count": 14,
     "metadata": {},
     "output_type": "execute_result"
    }
   ],
   "source": [
    "# 2 -> true\n",
    "y_2_train = (y_train == 2).astype(int)\n",
    "y_2_test = (y_test == 2).astype(int)\n",
    "\n",
    "per_clf = Perceptron()\n",
    "per_clf.fit(X_train, y_2_train)"
   ]
  },
  {
   "cell_type": "code",
   "execution_count": 15,
   "id": "39ab7981-8e78-498f-99a1-3316fd3f4648",
   "metadata": {},
   "outputs": [
    {
     "name": "stdout",
     "output_type": "stream",
     "text": [
      "0.85\n",
      "0.8666666666666667\n"
     ]
    }
   ],
   "source": [
    "per_acc.append((accuracy_score(y_2_train, per_clf.predict(X_train)),\n",
    "               accuracy_score(y_2_test, per_clf.predict(X_test))))\n",
    "print(accuracy_score(y_2_train, per_clf.predict(X_train)))\n",
    "print(accuracy_score(y_2_test, per_clf.predict(X_test)))"
   ]
  },
  {
   "cell_type": "code",
   "execution_count": 16,
   "id": "36b07150-c758-4e8e-82b9-6b490b0e18f9",
   "metadata": {},
   "outputs": [
    {
     "name": "stdout",
     "output_type": "stream",
     "text": [
      "[(4.0, -1.4999999999999993, -1.6999999999999997), (-9.0, 6.800000000000028, -16.099999999999973), (-37.0, 1.8999999999999861, 21.499999999999993)]\n"
     ]
    }
   ],
   "source": [
    "per_wght.append((per_clf.intercept_[0],per_clf.coef_[0][0],per_clf.coef_[0][1]))\n",
    "print(per_wght)"
   ]
  },
  {
   "cell_type": "markdown",
   "id": "96b363b7-35e1-488c-a8cb-1b82bd2b53b3",
   "metadata": {},
   "source": [
    "----\n",
    "**Zapisz do pliku**"
   ]
  },
  {
   "cell_type": "code",
   "execution_count": 17,
   "id": "e48f5aad-0eed-40cb-befb-70134be87f30",
   "metadata": {},
   "outputs": [
    {
     "name": "stdout",
     "output_type": "stream",
     "text": [
      "[(1.0, 1.0), (0.6416666666666667, 0.7), (0.85, 0.8666666666666667)]\n"
     ]
    }
   ],
   "source": [
    "import pickle\n",
    "with open('per_acc.pkl','wb') as f: pickle.dump(per_acc, f)\n",
    "\n",
    "#sprawdzenie zawartosci pliku\n",
    "with open('per_acc.pkl','rb') as f: print(pickle.load(f))"
   ]
  },
  {
   "cell_type": "code",
   "execution_count": 18,
   "id": "63200a3b-9f29-4748-9a64-34e8e6bdb725",
   "metadata": {},
   "outputs": [
    {
     "name": "stdout",
     "output_type": "stream",
     "text": [
      "[(4.0, -1.4999999999999993, -1.6999999999999997), (-9.0, 6.800000000000028, -16.099999999999973), (-37.0, 1.8999999999999861, 21.499999999999993)]\n"
     ]
    }
   ],
   "source": [
    "with open('per_wght.pkl','wb') as f: pickle.dump(per_wght, f)\n",
    "\n",
    "#sprawdzenie zawartosci pliku\n",
    "with open('per_wght.pkl','rb') as f: print(pickle.load(f))"
   ]
  },
  {
   "cell_type": "markdown",
   "id": "e85d09f2-eb5a-4558-856f-c998766ea3b1",
   "metadata": {},
   "source": [
    "### Perceptron i XOR"
   ]
  },
  {
   "cell_type": "code",
   "execution_count": 19,
   "id": "035c97dc-7ff3-4656-a296-2d2e374cbe3b",
   "metadata": {},
   "outputs": [],
   "source": [
    "X = np.array([\n",
    "    [0, 0], \n",
    "    [0, 1], \n",
    "    [1, 0], \n",
    "    [1, 1]])\n",
    "y = np.array([0, 1, 1, 0])"
   ]
  },
  {
   "cell_type": "code",
   "execution_count": 20,
   "id": "af74ccee-2e6a-41d8-b69f-ec3ec633314f",
   "metadata": {},
   "outputs": [],
   "source": [
    "per_clf_xor = Perceptron().fit(X, y)"
   ]
  },
  {
   "cell_type": "code",
   "execution_count": 21,
   "id": "f1b2bf2a-16ae-45d3-8299-b47c90710422",
   "metadata": {},
   "outputs": [
    {
     "name": "stdout",
     "output_type": "stream",
     "text": [
      "[0 0 0 0]\n"
     ]
    }
   ],
   "source": [
    "print(per_clf_xor.predict(X)) # wszystko jest 0"
   ]
  },
  {
   "cell_type": "code",
   "execution_count": 22,
   "id": "b9abbbda-429a-4b35-b0da-523e6eb873c3",
   "metadata": {},
   "outputs": [
    {
     "data": {
      "text/plain": [
       "(0.0, 0.0, 0.0)"
      ]
     },
     "execution_count": 22,
     "metadata": {},
     "output_type": "execute_result"
    }
   ],
   "source": [
    "(per_clf_xor.intercept_[0],per_clf_xor.coef_[0][0],per_clf_xor.coef_[0][1]) #wagi są 0"
   ]
  },
  {
   "cell_type": "markdown",
   "id": "1995e8e7-32b5-40c0-a120-294ba60c8010",
   "metadata": {},
   "source": [
    "### XOR, drugie podejście"
   ]
  },
  {
   "cell_type": "code",
   "execution_count": 23,
   "id": "fcfd63d0-6e1e-4f52-9f9b-512d5f80fe38",
   "metadata": {},
   "outputs": [],
   "source": [
    "import tensorflow as tf\n",
    "from tensorflow import keras"
   ]
  },
  {
   "cell_type": "code",
   "execution_count": 24,
   "id": "8b16f370-6081-40c2-867c-0a32c7658ca0",
   "metadata": {},
   "outputs": [
    {
     "name": "stdout",
     "output_type": "stream",
     "text": [
      "WARNING:tensorflow:5 out of the last 9 calls to <function Model.make_predict_function.<locals>.predict_function at 0x7ffaa2f5a160> triggered tf.function retracing. Tracing is expensive and the excessive number of tracings could be due to (1) creating @tf.function repeatedly in a loop, (2) passing tensors with different shapes, (3) passing Python objects instead of tensors. For (1), please define your @tf.function outside of the loop. For (2), @tf.function has experimental_relax_shapes=True option that relaxes argument shapes that can avoid unnecessary retracing. For (3), please refer to https://www.tensorflow.org/guide/function#controlling_retracing and https://www.tensorflow.org/api_docs/python/tf/function for  more details.\n",
      "WARNING:tensorflow:6 out of the last 11 calls to <function Model.make_predict_function.<locals>.predict_function at 0x7ffaa3314310> triggered tf.function retracing. Tracing is expensive and the excessive number of tracings could be due to (1) creating @tf.function repeatedly in a loop, (2) passing tensors with different shapes, (3) passing Python objects instead of tensors. For (1), please define your @tf.function outside of the loop. For (2), @tf.function has experimental_relax_shapes=True option that relaxes argument shapes that can avoid unnecessary retracing. For (3), please refer to https://www.tensorflow.org/guide/function#controlling_retracing and https://www.tensorflow.org/api_docs/python/tf/function for  more details.\n"
     ]
    }
   ],
   "source": [
    "for i in range(10):\n",
    "    model = keras.models.Sequential([\n",
    "        keras.layers.InputLayer(input_shape=[2]),\n",
    "        keras.layers.Dense(2, activation = \"tanh\"),\n",
    "        keras.layers.Dense(1, activation = \"sigmoid\")\n",
    "    ])\n",
    "    model.compile(optimizer=tf.keras.optimizers.SGD(),\n",
    "                  loss=tf.keras.losses.BinaryCrossentropy())\n",
    "    history = model.fit(X, y, epochs=100, verbose=False)\n",
    "    model.predict(X)\n",
    "    if model.predict(X)[0] < 0.1 and model.predict(X)[1] > 0.9:\n",
    "        if model.predict(X)[2] > 0.9 and model.predict(X)[3] < 0.1:\n",
    "            print(model.predict(X), y)\n",
    "            break"
   ]
  },
  {
   "cell_type": "code",
   "execution_count": 25,
   "id": "8a470fe5-1942-46f9-b747-99e7a08c3ac4",
   "metadata": {},
   "outputs": [
    {
     "name": "stdout",
     "output_type": "stream",
     "text": [
      "[[0.00220495]\n",
      " [0.99582326]\n",
      " [0.9998161 ]\n",
      " [0.00198913]] [0 1 1 0]\n"
     ]
    }
   ],
   "source": [
    "for i in range(100):\n",
    "    model = keras.models.Sequential([\n",
    "        keras.layers.InputLayer(input_shape=[2]),\n",
    "        keras.layers.Dense(2, activation = \"tanh\"),\n",
    "        keras.layers.Dense(1, activation = \"sigmoid\")\n",
    "    ])\n",
    "    model.compile(optimizer=tf.keras.optimizers.Adam(learning_rate=0.5),\n",
    "                  loss=tf.keras.losses.MeanAbsoluteError())\n",
    "    history = model.fit(X, y, epochs=100, verbose=False)\n",
    "    if model.predict(X)[0] < 0.1 and model.predict(X)[1] > 0.9:\n",
    "        if model.predict(X)[2] > 0.9 and model.predict(X)[3] < 0.1:\n",
    "            print(model.predict(X), y)\n",
    "            mlp_xor_weights = model.get_weights()\n",
    "            break"
   ]
  },
  {
   "cell_type": "code",
   "execution_count": 26,
   "id": "9fe7d8c6-b07c-4447-b506-0265413095cf",
   "metadata": {},
   "outputs": [
    {
     "name": "stdout",
     "output_type": "stream",
     "text": [
      "[array([[-8.259538 ,  2.9282   ],\n",
      "       [ 7.4384203, -6.7884016]], dtype=float32), array([-3.880966 , -2.7784348], dtype=float32), array([[ 5.8513093],\n",
      "       [12.902084 ]], dtype=float32), array([12.534324], dtype=float32)]\n"
     ]
    }
   ],
   "source": [
    "with open('mlp_xor_weights','wb') as f: pickle.dump(mlp_xor_weights, f)\n",
    "\n",
    "#sprawdzenie zawartosci pliku\n",
    "with open('mlp_xor_weights','rb') as f: print(pickle.load(f))"
   ]
  },
  {
   "cell_type": "code",
   "execution_count": 27,
   "id": "3813abe5-0776-4240-bbbf-cacbaa2c9d63",
   "metadata": {},
   "outputs": [
    {
     "name": "stdout",
     "output_type": "stream",
     "text": [
      "Model: \"sequential_10\"\n",
      "_________________________________________________________________\n",
      " Layer (type)                Output Shape              Param #   \n",
      "=================================================================\n",
      " dense_20 (Dense)            (None, 2)                 6         \n",
      "                                                                 \n",
      " dense_21 (Dense)            (None, 1)                 3         \n",
      "                                                                 \n",
      "=================================================================\n",
      "Total params: 9\n",
      "Trainable params: 9\n",
      "Non-trainable params: 0\n",
      "_________________________________________________________________\n"
     ]
    }
   ],
   "source": [
    "model.summary()"
   ]
  },
  {
   "cell_type": "code",
   "execution_count": 28,
   "id": "cc041c2a-b7b0-4063-953e-7519eebd9b2e",
   "metadata": {},
   "outputs": [],
   "source": [
    "model.compile(optimizer=tf.keras.optimizers.SGD(),\n",
    "              loss=tf.keras.losses.BinaryCrossentropy())"
   ]
  },
  {
   "cell_type": "code",
   "execution_count": 29,
   "id": "8fd709b9-1d39-497f-bc53-526834ab9b5a",
   "metadata": {},
   "outputs": [],
   "source": [
    "history = model.fit(X, y, epochs=100, verbose=False)"
   ]
  },
  {
   "cell_type": "code",
   "execution_count": 30,
   "id": "f3124e77-2270-4faa-9c25-b58f79c549a8",
   "metadata": {},
   "outputs": [
    {
     "name": "stdout",
     "output_type": "stream",
     "text": [
      "[0.002141966950148344, 0.0021419187542051077, 0.0021418724209070206, 0.002141824923455715, 0.002141776727512479, 0.0021417296957224607, 0.0021416826639324427, 0.002141636796295643, 0.002141587669029832, 0.0021415401715785265, 0.0021414924412965775, 0.0021414444781839848, 0.0021413981448858976, 0.002141351578757167, 0.0021413015201687813, 0.0021412556525319815, 0.0021412076894193888, 0.0021411594934761524, 0.002141111996024847, 0.0021410640329122543, 0.002141017699614167, 0.0021409715991467237, 0.002140923636034131, 0.002140875905752182, 0.0021408284083008766, 0.0021407802123576403, 0.0021407348103821278, 0.002140685683116317, 0.0021406381856650114, 0.002140590688213706, 0.0021405427251011133, 0.0021404947619885206, 0.0021404477301985025, 0.0021404018625617027, 0.00214035389944911, 0.0021403059363365173, 0.002140258438885212, 0.002140211407095194, 0.002140162978321314, 0.0021401154808700085, 0.0021400689147412777, 0.0021400221157819033, 0.0021399729885160923, 0.0021399259567260742, 0.0021398791577667, 0.0021398328244686127, 0.002139785559847951, 0.0021397368982434273, 0.0021396917290985584, 0.002139642834663391, 0.0021395953372120857, 0.0021395483054220676, 0.002139498945325613, 0.0021394523791968822, 0.0021394039504230022, 0.0021393592469394207, 0.0021393110509961843, 0.0021392647176980972, 0.00213921582326293, 0.0021391676273196936, 0.002139119431376457, 0.0021390735637396574, 0.0021390279289335012, 0.0021389774046838284, 0.002138931304216385, 0.002138883341103792, 0.002138836309313774, 0.0021387888118624687, 0.0021387403830885887, 0.002138693118467927, 0.0021386481821537018, 0.0021385999862104654, 0.002138550393283367, 0.0021385052241384983, 0.0021384567953646183, 0.0021384095307439566, 0.002138363430276513, 0.0021383161656558514, 0.0021382675040513277, 0.0021382193081080914, 0.0021381734404712915, 0.0021381245460361242, 0.0021380791440606117, 0.002138031180948019, 0.002137982752174139, 0.00213793758302927, 0.002137888455763459, 0.0021378416568040848, 0.0021377941593527794, 0.0021377457305788994, 0.0021377000957727432, 0.0021376514341682196, 0.002137604169547558, 0.0021375566720962524, 0.0021375101059675217, 0.0021374633070081472, 0.0021374153438955545, 0.002137366682291031, 0.002137321513146162, 0.0021372733172029257]\n"
     ]
    }
   ],
   "source": [
    "print(history.history['loss'])"
   ]
  },
  {
   "cell_type": "code",
   "execution_count": 31,
   "id": "76dc9717-9c27-4825-b427-695f9c05c02c",
   "metadata": {},
   "outputs": [
    {
     "data": {
      "text/plain": [
       "<AxesSubplot:>"
      ]
     },
     "execution_count": 31,
     "metadata": {},
     "output_type": "execute_result"
    },
    {
     "data": {
      "image/png": "[encoded data removed]",
      "text/plain": [
       "<Figure size 432x288 with 1 Axes>"
      ]
     },
     "metadata": {
      "needs_background": "light"
     },
     "output_type": "display_data"
    }
   ],
   "source": [
    "pd.DataFrame(history.history).plot()"
   ]
  },
  {
   "cell_type": "code",
   "execution_count": 32,
   "id": "7bdac7e7-4ad6-4966-ae54-3c738ef5bf42",
   "metadata": {},
   "outputs": [
    {
     "name": "stdout",
     "output_type": "stream",
     "text": [
      "1/1 [==============================] - 0s 127ms/step - loss: 0.0021\n"
     ]
    },
    {
     "data": {
      "text/plain": [
       "0.002137226052582264"
      ]
     },
     "execution_count": 32,
     "metadata": {},
     "output_type": "execute_result"
    }
   ],
   "source": [
    "model.evaluate(X,y)"
   ]
  },
  {
   "cell_type": "code",
   "execution_count": 33,
   "id": "81f7bbf3-54d6-4776-8d34-c9b88ccebb5b",
   "metadata": {},
   "outputs": [
    {
     "data": {
      "text/plain": [
       "array([[0.00220063],\n",
       "       [0.9958318 ],\n",
       "       [0.9998181 ],\n",
       "       [0.00198504]], dtype=float32)"
      ]
     },
     "execution_count": 33,
     "metadata": {},
     "output_type": "execute_result"
    }
   ],
   "source": [
    "model.predict(X)"
   ]
  }
 ],
 "metadata": {
  "kernelspec": {
   "display_name": "Python 3",
   "language": "python",
   "name": "python3"
  },
  "language_info": {
   "codemirror_mode": {
    "name": "ipython",
    "version": 3
   },
   "file_extension": ".py",
   "mimetype": "text/x-python",
   "name": "python",
   "nbconvert_exporter": "python",
   "pygments_lexer": "ipython3",
   "version": "3.8.2"
  }
 },
 "nbformat": 4,
 "nbformat_minor": 5
}
