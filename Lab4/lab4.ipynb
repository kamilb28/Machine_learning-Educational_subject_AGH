{
 "cells": [
  {
   "cell_type": "markdown",
   "id": "8a796dcb-bbd1-49d1-b859-0dd8c6d488fb",
   "metadata": {},
   "source": [
    "# SVM"
   ]
  },
  {
   "cell_type": "markdown",
   "id": "af284d4c-1c3b-43a5-96ff-641b86c4bfad",
   "metadata": {},
   "source": [
    "## Przygotowanie danych"
   ]
  },
  {
   "cell_type": "code",
   "execution_count": 1,
   "id": "23db9a44-f6c9-4ece-b7d4-27d0d731fd3a",
   "metadata": {},
   "outputs": [],
   "source": [
    "from sklearn import datasets\n",
    "import numpy as np\n",
    "import pandas as pd"
   ]
  },
  {
   "cell_type": "code",
   "execution_count": 2,
   "id": "3f180e5f-bc86-4b4f-bae0-30a0f15f9a98",
   "metadata": {},
   "outputs": [],
   "source": [
    "data_breast_cancer = datasets.load_breast_cancer()\n",
    "#print(data_breast_cancer['DESCR'])"
   ]
  },
  {
   "cell_type": "code",
   "execution_count": 3,
   "id": "69a0313b-897e-460f-8719-2c1bccdb8ded",
   "metadata": {},
   "outputs": [],
   "source": [
    "data_iris = datasets.load_iris()\n",
    "#print(data_iris['DESCR'])"
   ]
  },
  {
   "cell_type": "markdown",
   "id": "8ac8bf27-faa5-48a7-8716-dedd0c2a28d3",
   "metadata": {},
   "source": [
    "## Klasyfikacja nowotworow"
   ]
  },
  {
   "cell_type": "code",
   "execution_count": 4,
   "id": "24da51b8-9137-4d95-a805-6c44b2242c65",
   "metadata": {},
   "outputs": [],
   "source": [
    "X = data_breast_cancer[\"data\"][:, (3, 4)] # wartości cech area oraz smoothness\n",
    "y = data_breast_cancer[\"target\"]"
   ]
  },
  {
   "cell_type": "code",
   "execution_count": 5,
   "id": "e1353ff6-939d-4c7f-a92f-1bfd31c7d0f6",
   "metadata": {},
   "outputs": [],
   "source": [
    "from sklearn.model_selection import train_test_split\n",
    "X_train, X_test, y_train, y_test = train_test_split(X, y, test_size=0.20, random_state=42)"
   ]
  },
  {
   "cell_type": "markdown",
   "id": "50ce980c-6eff-4391-880a-f3b4bcd0dd6d",
   "metadata": {},
   "source": [
    "### LinearSVM z Pipeline"
   ]
  },
  {
   "cell_type": "code",
   "execution_count": 6,
   "id": "53b5a460-36c8-4736-a505-9508372aaa75",
   "metadata": {},
   "outputs": [],
   "source": [
    "from sklearn.pipeline import Pipeline\n",
    "from sklearn.preprocessing import StandardScaler\n",
    "from sklearn.svm import LinearSVC\n",
    "\n",
    "# automatyczne skalowanie\n",
    "svm_clf = Pipeline([(\"scaler\", StandardScaler()), (\"linear_svc\", LinearSVC(C=1, loss=\"hinge\", random_state=42))])"
   ]
  },
  {
   "cell_type": "code",
   "execution_count": 7,
   "id": "70159904-298e-4c43-aa66-cf8ba134166d",
   "metadata": {},
   "outputs": [
    {
     "data": {
      "text/plain": [
       "Pipeline(steps=[('scaler', StandardScaler()),\n",
       "                ('linear_svc', LinearSVC(C=1, loss='hinge', random_state=42))])"
      ]
     },
     "execution_count": 7,
     "metadata": {},
     "output_type": "execute_result"
    }
   ],
   "source": [
    "svm_clf.fit(X_train, y_train)"
   ]
  },
  {
   "cell_type": "code",
   "execution_count": 8,
   "id": "11276c1e-847e-487f-b2df-9e76b3d9e0d9",
   "metadata": {},
   "outputs": [],
   "source": [
    "y_train_pred = svm_clf.predict(X_train)\n",
    "y_test_pred = svm_clf.predict(X_test)"
   ]
  },
  {
   "cell_type": "code",
   "execution_count": 9,
   "id": "0ba395c8-49b6-44fa-be13-80e19b4faf86",
   "metadata": {},
   "outputs": [
    {
     "name": "stdout",
     "output_type": "stream",
     "text": [
      "0.8923076923076924\n"
     ]
    }
   ],
   "source": [
    "from sklearn.metrics import accuracy_score\n",
    "accuracy_train_pipeline = accuracy_score(y_train, y_train_pred)\n",
    "print(accuracy_train_pipeline)"
   ]
  },
  {
   "cell_type": "code",
   "execution_count": 10,
   "id": "2ca99870-047f-4760-817e-c0ac7230d294",
   "metadata": {},
   "outputs": [
    {
     "name": "stdout",
     "output_type": "stream",
     "text": [
      "0.9298245614035088\n"
     ]
    }
   ],
   "source": [
    "accuracy_test_pipeline = accuracy_score(y_test, y_test_pred)\n",
    "print(accuracy_test_pipeline)"
   ]
  },
  {
   "cell_type": "markdown",
   "id": "b72fbb7c-8a97-469c-8e1e-43a75b733a92",
   "metadata": {},
   "source": [
    "### LinearSVM bez Pipeline"
   ]
  },
  {
   "cell_type": "code",
   "execution_count": 11,
   "id": "c472d15c-d567-4efb-b330-6ca51c815c1c",
   "metadata": {},
   "outputs": [],
   "source": [
    "#bez automatycznego skalowania \n",
    "svm_clf_nopip = LinearSVC(C=1, loss=\"hinge\", random_state=42)"
   ]
  },
  {
   "cell_type": "code",
   "execution_count": 12,
   "id": "d6be4cf4-0420-423c-84e8-2aae83077a6d",
   "metadata": {},
   "outputs": [
    {
     "name": "stderr",
     "output_type": "stream",
     "text": [
      "/opt/homebrew/Caskroom/miniforge/base/envs/ml/lib/python3.9/site-packages/sklearn/svm/_base.py:1206: ConvergenceWarning: Liblinear failed to converge, increase the number of iterations.\n",
      "  warnings.warn(\n"
     ]
    },
    {
     "data": {
      "text/plain": [
       "LinearSVC(C=1, loss='hinge', random_state=42)"
      ]
     },
     "execution_count": 12,
     "metadata": {},
     "output_type": "execute_result"
    }
   ],
   "source": [
    "svm_clf_nopip.fit(X_train, y_train)"
   ]
  },
  {
   "cell_type": "code",
   "execution_count": 13,
   "id": "cfbbff11-3ce4-4292-b521-585d690fb1d7",
   "metadata": {},
   "outputs": [],
   "source": [
    "y_train_pred = svm_clf_nopip.predict(X_train)\n",
    "y_test_pred = svm_clf_nopip.predict(X_test)"
   ]
  },
  {
   "cell_type": "code",
   "execution_count": 14,
   "id": "9e961acf-9b83-4c0b-9e45-1df97c2abe7e",
   "metadata": {},
   "outputs": [
    {
     "name": "stdout",
     "output_type": "stream",
     "text": [
      "0.6285714285714286\n"
     ]
    }
   ],
   "source": [
    "accuracy_train = accuracy_score(y_train, y_train_pred)\n",
    "print(accuracy_train)"
   ]
  },
  {
   "cell_type": "code",
   "execution_count": 15,
   "id": "7cad14fe-f548-470c-9554-9732786fda11",
   "metadata": {},
   "outputs": [
    {
     "name": "stdout",
     "output_type": "stream",
     "text": [
      "0.6228070175438597\n"
     ]
    }
   ],
   "source": [
    "accuracy_test = accuracy_score(y_test, y_test_pred)\n",
    "print(accuracy_test)"
   ]
  },
  {
   "cell_type": "markdown",
   "id": "a18c6607-dca2-4663-a0f9-ccccf23748c3",
   "metadata": {},
   "source": [
    "#### zapisanie pliku:"
   ]
  },
  {
   "cell_type": "code",
   "execution_count": 16,
   "id": "85418ec9-89e7-4888-84d3-92aa491eef83",
   "metadata": {},
   "outputs": [
    {
     "name": "stdout",
     "output_type": "stream",
     "text": [
      "[0.6285714285714286, 0.6228070175438597, 0.8923076923076924, 0.9298245614035088]\n"
     ]
    }
   ],
   "source": [
    "import pickle \n",
    "bc_acc = [accuracy_train, accuracy_test, accuracy_train_pipeline, accuracy_test_pipeline]\n",
    "print(bc_acc)\n",
    "with open('bc_acc.pkl','wb') as f: pickle.dump(bc_acc, f)"
   ]
  },
  {
   "cell_type": "markdown",
   "id": "e6c46eab-368f-4557-bdf0-65b5f85d1910",
   "metadata": {},
   "source": [
    "* brak skalowania zmaniejszylo skutecznosc"
   ]
  },
  {
   "cell_type": "markdown",
   "id": "97727fe4-eaf0-4388-bcc7-5aff101fdaf1",
   "metadata": {},
   "source": [
    "## Klasyfikacja zbioru irysow"
   ]
  },
  {
   "cell_type": "code",
   "execution_count": 17,
   "id": "f120fd19-53f1-468d-b82f-dd10e1032b4d",
   "metadata": {},
   "outputs": [],
   "source": [
    "X = data_iris[\"data\"][:, (2, 3)] # wartości: dlugosc i szerokosc platka\n",
    "y = (data_iris[\"target\"] == 2).astype(np.int8)"
   ]
  },
  {
   "cell_type": "code",
   "execution_count": 18,
   "id": "20931012-0d5f-444f-ae71-bcc23fd28de0",
   "metadata": {},
   "outputs": [],
   "source": [
    "from sklearn.model_selection import train_test_split\n",
    "X_train, X_test, y_train, y_test = train_test_split(X, y, test_size=0.20, random_state=42)"
   ]
  },
  {
   "cell_type": "markdown",
   "id": "b5ff2cdc-4d66-435a-bad9-d0a13436a332",
   "metadata": {},
   "source": [
    "### LinearSVM z Pipeline"
   ]
  },
  {
   "cell_type": "code",
   "execution_count": 19,
   "id": "1cdd83f1-14b9-48c4-a4fb-1fa6108176a3",
   "metadata": {},
   "outputs": [],
   "source": [
    "from sklearn.pipeline import Pipeline\n",
    "from sklearn.preprocessing import StandardScaler\n",
    "from sklearn.svm import LinearSVC\n",
    "\n",
    "# automatyczne skalowanie\n",
    "svm_clf = Pipeline([(\"scaler\", StandardScaler()), (\"linear_svc\", LinearSVC(C=1, loss=\"hinge\", random_state=42))])"
   ]
  },
  {
   "cell_type": "code",
   "execution_count": 20,
   "id": "68a3acb9-cfe1-416d-b0ab-5aec808b16eb",
   "metadata": {},
   "outputs": [
    {
     "data": {
      "text/plain": [
       "Pipeline(steps=[('scaler', StandardScaler()),\n",
       "                ('linear_svc', LinearSVC(C=1, loss='hinge', random_state=42))])"
      ]
     },
     "execution_count": 20,
     "metadata": {},
     "output_type": "execute_result"
    }
   ],
   "source": [
    "svm_clf.fit(X_train, y_train)"
   ]
  },
  {
   "cell_type": "code",
   "execution_count": 21,
   "id": "29731b0a-e5e3-4f30-8b0d-fc72acf996ef",
   "metadata": {},
   "outputs": [],
   "source": [
    "y_train_pred = svm_clf.predict(X_train)\n",
    "y_test_pred = svm_clf.predict(X_test)"
   ]
  },
  {
   "cell_type": "code",
   "execution_count": 22,
   "id": "c982fa0d-2201-4272-a37f-dae4e12d33d4",
   "metadata": {},
   "outputs": [
    {
     "name": "stdout",
     "output_type": "stream",
     "text": [
      "0.9416666666666667\n"
     ]
    }
   ],
   "source": [
    "from sklearn.metrics import accuracy_score\n",
    "accuracy_train_pipeline = accuracy_score(y_train, y_train_pred)\n",
    "print(accuracy_train_pipeline)"
   ]
  },
  {
   "cell_type": "code",
   "execution_count": 23,
   "id": "6cf1baad-461e-43ba-b0f2-0991ff6e4a90",
   "metadata": {},
   "outputs": [
    {
     "name": "stdout",
     "output_type": "stream",
     "text": [
      "1.0\n"
     ]
    }
   ],
   "source": [
    "accuracy_test_pipeline = accuracy_score(y_test, y_test_pred)\n",
    "print(accuracy_test_pipeline)"
   ]
  },
  {
   "cell_type": "markdown",
   "id": "208aa1a8-a19f-4634-99b3-987b4530c826",
   "metadata": {},
   "source": [
    "### LinearSVM bez Pipeline"
   ]
  },
  {
   "cell_type": "code",
   "execution_count": 24,
   "id": "a71204f7-c546-47bc-930f-df3ef4751d54",
   "metadata": {},
   "outputs": [],
   "source": [
    "#bez automatycznego skalowania \n",
    "svm_clf_nopip = LinearSVC(C=1, loss=\"hinge\", random_state=42)"
   ]
  },
  {
   "cell_type": "code",
   "execution_count": 25,
   "id": "207527ec-db0c-4677-bc80-93846780cf25",
   "metadata": {},
   "outputs": [
    {
     "name": "stderr",
     "output_type": "stream",
     "text": [
      "/opt/homebrew/Caskroom/miniforge/base/envs/ml/lib/python3.9/site-packages/sklearn/svm/_base.py:1206: ConvergenceWarning: Liblinear failed to converge, increase the number of iterations.\n",
      "  warnings.warn(\n"
     ]
    },
    {
     "data": {
      "text/plain": [
       "LinearSVC(C=1, loss='hinge', random_state=42)"
      ]
     },
     "execution_count": 25,
     "metadata": {},
     "output_type": "execute_result"
    }
   ],
   "source": [
    "svm_clf_nopip.fit(X_train, y_train)"
   ]
  },
  {
   "cell_type": "code",
   "execution_count": 26,
   "id": "a5f67b0e-6ebd-4c25-911a-dcca01ab4100",
   "metadata": {},
   "outputs": [],
   "source": [
    "y_train_pred = svm_clf_nopip.predict(X_train)\n",
    "y_test_pred = svm_clf_nopip.predict(X_test)"
   ]
  },
  {
   "cell_type": "code",
   "execution_count": 27,
   "id": "74b248cb-e892-4a30-b0a0-813d29c2ed48",
   "metadata": {},
   "outputs": [
    {
     "name": "stdout",
     "output_type": "stream",
     "text": [
      "0.9416666666666667\n"
     ]
    }
   ],
   "source": [
    "accuracy_train = accuracy_score(y_train, y_train_pred)\n",
    "print(accuracy_train)"
   ]
  },
  {
   "cell_type": "code",
   "execution_count": 28,
   "id": "abef17d9-89a8-45ec-b90c-69f2cf91cd39",
   "metadata": {},
   "outputs": [
    {
     "name": "stdout",
     "output_type": "stream",
     "text": [
      "1.0\n"
     ]
    }
   ],
   "source": [
    "accuracy_test = accuracy_score(y_test, y_test_pred)\n",
    "print(accuracy_test)"
   ]
  },
  {
   "cell_type": "markdown",
   "id": "e2c37150-8609-4cfd-a0ef-b67a7d5da64c",
   "metadata": {},
   "source": [
    "#### zapisanie pliku:"
   ]
  },
  {
   "cell_type": "code",
   "execution_count": 29,
   "id": "f95fc21d-a0a9-41e8-a2b9-d7ea5635a339",
   "metadata": {},
   "outputs": [
    {
     "name": "stdout",
     "output_type": "stream",
     "text": [
      "[0.9416666666666667, 1.0, 0.9416666666666667, 1.0]\n"
     ]
    }
   ],
   "source": [
    "import pickle\n",
    "iris_acc = [accuracy_train, accuracy_test, accuracy_train_pipeline, accuracy_test_pipeline]\n",
    "print(iris_acc)\n",
    "with open('iris_acc.pkl','wb') as f: pickle.dump(iris_acc, f)"
   ]
  },
  {
   "cell_type": "markdown",
   "id": "4b18c4e7-5c0e-4abf-92cf-bda77e84d7b9",
   "metadata": {},
   "source": [
    "* Why jeden?"
   ]
  },
  {
   "cell_type": "code",
   "execution_count": 30,
   "id": "38c3b7e5-d059-4d18-83b2-d4fd0e335435",
   "metadata": {},
   "outputs": [],
   "source": [
    "### "
   ]
  }
 ],
 "metadata": {
  "kernelspec": {
   "display_name": "Python 3 (ipykernel)",
   "language": "python",
   "name": "python3"
  },
  "language_info": {
   "codemirror_mode": {
    "name": "ipython",
    "version": 3
   },
   "file_extension": ".py",
   "mimetype": "text/x-python",
   "name": "python",
   "nbconvert_exporter": "python",
   "pygments_lexer": "ipython3",
   "version": "3.9.12"
  }
 },
 "nbformat": 4,
 "nbformat_minor": 5
}
