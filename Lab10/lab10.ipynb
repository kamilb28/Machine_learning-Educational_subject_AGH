{
 "cells": [
  {
   "cell_type": "markdown",
   "id": "24716e0f-ebc8-4d90-8756-1b75a8f04d79",
   "metadata": {},
   "source": [
    "# Laboratorium 10: Klasyfikacja i regresja w keras"
   ]
  },
  {
   "cell_type": "code",
   "execution_count": 1,
   "id": "f59cbbeb-49f5-4ba4-a92e-ed32dce53051",
   "metadata": {},
   "outputs": [],
   "source": [
    "import numpy as np\n",
    "import pandas as pd"
   ]
  },
  {
   "cell_type": "markdown",
   "id": "33f7699c-dccb-4b31-bebe-8778599f2572",
   "metadata": {
    "tags": []
   },
   "source": [
    "## Klasyfikacja"
   ]
  },
  {
   "cell_type": "markdown",
   "id": "96ea75cf-e895-4222-a5b8-cb7fdfc4660d",
   "metadata": {},
   "source": [
    "Zbior danych *Fashion MNIST*"
   ]
  },
  {
   "cell_type": "code",
   "execution_count": 2,
   "id": "66692a31-ac9b-489a-a4aa-731a603cf56d",
   "metadata": {},
   "outputs": [],
   "source": [
    "import tensorflow as tf\n",
    "fashion_mnist = tf.keras.datasets.fashion_mnist\n",
    "(X_train, y_train), (X_test, y_test) = fashion_mnist.load_data()\n",
    "assert X_train.shape == (60000, 28, 28)\n",
    "assert X_test.shape == (10000, 28, 28)\n",
    "assert y_train.shape == (60000,)\n",
    "assert y_test.shape == (10000,)"
   ]
  },
  {
   "cell_type": "markdown",
   "id": "558ae2ba-f4a3-45cb-b9cb-80b414d71e7b",
   "metadata": {},
   "source": [
    "---\n",
    "Przeskalowanie wrtosci z 0-255 do 0-1"
   ]
  },
  {
   "cell_type": "code",
   "execution_count": 3,
   "id": "74000ef9-300f-478c-8f1e-42507ad5f27f",
   "metadata": {},
   "outputs": [],
   "source": [
    "X_train, X_test = X_train / 255.0, X_test / 255.0"
   ]
  },
  {
   "cell_type": "markdown",
   "id": "c520fe95-7860-44d7-b3d8-f177a535d5d3",
   "metadata": {},
   "source": [
    "---\n",
    "Przykladowy rysunek do klasyfikacji"
   ]
  },
  {
   "cell_type": "code",
   "execution_count": 4,
   "id": "7447a2c8-329f-4a76-9cc6-5a610cfef19b",
   "metadata": {},
   "outputs": [
    {
     "data": {
      "image/png": "[encoded data removed]",
      "text/plain": [
       "<Figure size 1080x504 with 16 Axes>"
      ]
     },
     "metadata": {
      "needs_background": "light"
     },
     "output_type": "display_data"
    }
   ],
   "source": [
    "import matplotlib.pyplot as plt\n",
    "fig = plt.figure(figsize=(15, 7))\n",
    "rows, columns = 2,8\n",
    "for i in range(16):\n",
    "    fig.add_subplot(rows, columns, i+1)\n",
    "    # showing image\n",
    "    plt.imshow(X_train[i], cmap=\"binary\")\n",
    "    plt.axis('off')"
   ]
  },
  {
   "cell_type": "markdown",
   "id": "672c73df-2bc4-4184-b118-24499497a2f6",
   "metadata": {},
   "source": [
    "---\n",
    "lista nazw kategorii"
   ]
  },
  {
   "cell_type": "code",
   "execution_count": 5,
   "id": "7e5c8996-a51e-40c9-899d-e3fd359fda04",
   "metadata": {},
   "outputs": [],
   "source": [
    " class_names = [\"koszulka\", \"spodnie\", \"pulower\", \"sukienka\", \"kurtka\",\n",
    "               \"sandał\", \"koszula\", \"but\", \"torba\", \"kozak\"]"
   ]
  },
  {
   "cell_type": "markdown",
   "id": "5605fd90-f423-4e8a-becb-44009dcf9412",
   "metadata": {},
   "source": [
    "---\n",
    "Model sekwencyjny zawierający warstwy gęste:\n",
    "* warstwę spłaszczającą dane, tj. przekształcającą z postaci (28,28) do postaci (784,), \n",
    "* warstwę ukrytą zawierającą 300 neuronów,\n",
    "* warstwę ukrytą zawierającą 100 neuronów,\n",
    "* warstwę wyjściową odpowiednią dla problemu klasyfikacji przy 10 klasach."
   ]
  },
  {
   "cell_type": "code",
   "execution_count": 6,
   "id": "b553c20f-b457-4260-9f7c-94551e9961cb",
   "metadata": {},
   "outputs": [
    {
     "name": "stderr",
     "output_type": "stream",
     "text": [
      "2022-05-28 09:21:43.533176: I tensorflow/core/platform/cpu_feature_guard.cc:193] This TensorFlow binary is optimized with oneAPI Deep Neural Network Library (oneDNN) to use the following CPU instructions in performance-critical operations:  AVX2 FMA\n",
      "To enable them in other operations, rebuild TensorFlow with the appropriate compiler flags.\n"
     ]
    }
   ],
   "source": [
    "from tensorflow import keras\n",
    "model = keras.models.Sequential([\n",
    "    keras.layers.Flatten(input_shape=[28,28]),\n",
    "    keras.layers.Dense(300, activation = \"relu\"),\n",
    "    keras.layers.Dense(100, activation = \"relu\"),\n",
    "    keras.layers.Dense(10, activation = \"softmax\")\n",
    "])"
   ]
  },
  {
   "cell_type": "markdown",
   "id": "8680e5b7-11f0-479e-a7cb-99fab45bb1f3",
   "metadata": {},
   "source": [
    "---\n",
    "podsumowanie i graficzna reprezentacja struktury sieci"
   ]
  },
  {
   "cell_type": "code",
   "execution_count": 7,
   "id": "c261fbcb-e490-48a6-ad62-4b9bec57bdca",
   "metadata": {},
   "outputs": [
    {
     "name": "stdout",
     "output_type": "stream",
     "text": [
      "Model: \"sequential\"\n",
      "_________________________________________________________________\n",
      " Layer (type)                Output Shape              Param #   \n",
      "=================================================================\n",
      " flatten (Flatten)           (None, 784)               0         \n",
      "                                                                 \n",
      " dense (Dense)               (None, 300)               235500    \n",
      "                                                                 \n",
      " dense_1 (Dense)             (None, 100)               30100     \n",
      "                                                                 \n",
      " dense_2 (Dense)             (None, 10)                1010      \n",
      "                                                                 \n",
      "=================================================================\n",
      "Total params: 266,610\n",
      "Trainable params: 266,610\n",
      "Non-trainable params: 0\n",
      "_________________________________________________________________\n",
      "You must install pydot (`pip install pydot`) and install graphviz (see instructions at https://graphviz.gitlab.io/download/) for plot_model/model_to_dot to work.\n"
     ]
    }
   ],
   "source": [
    "model.summary()\n",
    "tf.keras.utils.plot_model(model, \"fashion_mnist.png\", show_shapes=True)"
   ]
  },
  {
   "cell_type": "markdown",
   "id": "ad4790ea-6e2c-4ed2-abf1-4e71a206dc64",
   "metadata": {},
   "source": [
    "---\n",
    "Skompiluj model, podając rzadką entropię krzyżową jako funkcję straty, SGD jako opymalizator i dokładność jako metrykę."
   ]
  },
  {
   "cell_type": "code",
   "execution_count": 8,
   "id": "bdf2a483-474e-4df7-8f46-da77bf0ee6bc",
   "metadata": {},
   "outputs": [],
   "source": [
    "model.compile(loss= \"sparse_categorical_crossentropy\",\n",
    "              optimizer=\"sgd\",\n",
    "              metrics=[\"accuracy\"])"
   ]
  },
  {
   "cell_type": "markdown",
   "id": "65de7f22-5adc-4d07-9e82-3188e3ece459",
   "metadata": {},
   "source": [
    "---\n",
    "tesordboard:"
   ]
  },
  {
   "cell_type": "code",
   "execution_count": 9,
   "id": "4abef83e-075b-41bd-8312-799ab91c99fc",
   "metadata": {},
   "outputs": [],
   "source": [
    "def get_run_logdir(directory): \n",
    "    import time\n",
    "    import os\n",
    "    root_logdir = os.path.join(os.curdir, directory)\n",
    "    run_id = time.strftime(\"run_%Y_%m_%d-%H_%M_%S\")\n",
    "    return os.path.join(root_logdir, run_id)"
   ]
  },
  {
   "cell_type": "code",
   "execution_count": 10,
   "id": "0efe4cf0-c4d7-4da1-bae4-f05e0baa4b15",
   "metadata": {},
   "outputs": [],
   "source": [
    "tensorboard_cb = keras.callbacks.TensorBoard(get_run_logdir(\"classifier_logs\"))"
   ]
  },
  {
   "cell_type": "markdown",
   "id": "8299457a-ad05-4343-9179-11792ec6e76b",
   "metadata": {},
   "source": [
    "---\n",
    "zbior walidacyjny i przyuczenie "
   ]
  },
  {
   "cell_type": "code",
   "execution_count": 11,
   "id": "457b9914-c87e-4575-b3a3-81df2a5ce275",
   "metadata": {},
   "outputs": [],
   "source": [
    "from sklearn.model_selection import train_test_split\n",
    "X_train, X_valid, y_train, y_valid = train_test_split(X_train, y_train, test_size=0.1)"
   ]
  },
  {
   "cell_type": "code",
   "execution_count": 12,
   "id": "9021411c-f45b-4381-ad4a-e0e6904a1dd6",
   "metadata": {},
   "outputs": [
    {
     "name": "stdout",
     "output_type": "stream",
     "text": [
      "Epoch 1/20\n",
      "1688/1688 [==============================] - 7s 4ms/step - loss: 0.7105 - accuracy: 0.7662 - val_loss: 0.5243 - val_accuracy: 0.8242\n",
      "Epoch 2/20\n",
      "1688/1688 [==============================] - 6s 3ms/step - loss: 0.4891 - accuracy: 0.8289 - val_loss: 0.4697 - val_accuracy: 0.8338\n",
      "Epoch 3/20\n",
      "1688/1688 [==============================] - 5s 3ms/step - loss: 0.4456 - accuracy: 0.8451 - val_loss: 0.4430 - val_accuracy: 0.8422\n",
      "Epoch 4/20\n",
      "1688/1688 [==============================] - 5s 3ms/step - loss: 0.4177 - accuracy: 0.8533 - val_loss: 0.4774 - val_accuracy: 0.8262\n",
      "Epoch 5/20\n",
      "1688/1688 [==============================] - 6s 3ms/step - loss: 0.3975 - accuracy: 0.8605 - val_loss: 0.4245 - val_accuracy: 0.8482\n",
      "Epoch 6/20\n",
      "1688/1688 [==============================] - 6s 3ms/step - loss: 0.3827 - accuracy: 0.8655 - val_loss: 0.4449 - val_accuracy: 0.8467\n",
      "Epoch 7/20\n",
      "1688/1688 [==============================] - 6s 4ms/step - loss: 0.3691 - accuracy: 0.8700 - val_loss: 0.3599 - val_accuracy: 0.8783\n",
      "Epoch 8/20\n",
      "1688/1688 [==============================] - 5s 3ms/step - loss: 0.3568 - accuracy: 0.8737 - val_loss: 0.3686 - val_accuracy: 0.8710\n",
      "Epoch 9/20\n",
      "1688/1688 [==============================] - 5s 3ms/step - loss: 0.3465 - accuracy: 0.8765 - val_loss: 0.3710 - val_accuracy: 0.8662\n",
      "Epoch 10/20\n",
      "1688/1688 [==============================] - 6s 3ms/step - loss: 0.3360 - accuracy: 0.8798 - val_loss: 0.3453 - val_accuracy: 0.8777\n",
      "Epoch 11/20\n",
      "1688/1688 [==============================] - 5s 3ms/step - loss: 0.3279 - accuracy: 0.8835 - val_loss: 0.3525 - val_accuracy: 0.8765\n",
      "Epoch 12/20\n",
      "1688/1688 [==============================] - 5s 3ms/step - loss: 0.3200 - accuracy: 0.8855 - val_loss: 0.3373 - val_accuracy: 0.8812\n",
      "Epoch 13/20\n",
      "1688/1688 [==============================] - 6s 3ms/step - loss: 0.3125 - accuracy: 0.8879 - val_loss: 0.3557 - val_accuracy: 0.8720\n",
      "Epoch 14/20\n",
      "1688/1688 [==============================] - 6s 4ms/step - loss: 0.3072 - accuracy: 0.8890 - val_loss: 0.3214 - val_accuracy: 0.8845\n",
      "Epoch 15/20\n",
      "1688/1688 [==============================] - 8s 5ms/step - loss: 0.2993 - accuracy: 0.8923 - val_loss: 0.3287 - val_accuracy: 0.8838\n",
      "Epoch 16/20\n",
      "1688/1688 [==============================] - 8s 5ms/step - loss: 0.2937 - accuracy: 0.8944 - val_loss: 0.3243 - val_accuracy: 0.8820\n",
      "Epoch 17/20\n",
      "1688/1688 [==============================] - 7s 4ms/step - loss: 0.2888 - accuracy: 0.8956 - val_loss: 0.3318 - val_accuracy: 0.8843\n",
      "Epoch 18/20\n",
      "1688/1688 [==============================] - 6s 4ms/step - loss: 0.2822 - accuracy: 0.8980 - val_loss: 0.3093 - val_accuracy: 0.8865\n",
      "Epoch 19/20\n",
      "1688/1688 [==============================] - 6s 4ms/step - loss: 0.2780 - accuracy: 0.8994 - val_loss: 0.3137 - val_accuracy: 0.8872\n",
      "Epoch 20/20\n",
      "1688/1688 [==============================] - 7s 4ms/step - loss: 0.2732 - accuracy: 0.9016 - val_loss: 0.3017 - val_accuracy: 0.8923\n"
     ]
    }
   ],
   "source": [
    "history = model.fit(X_train, y_train, epochs=20,\n",
    "                    callbacks=[tensorboard_cb],\n",
    "                    validation_data=(X_valid, y_valid))"
   ]
  },
  {
   "cell_type": "code",
   "execution_count": 13,
   "id": "9c61570c-ea6c-4b06-aa17-7f542f540ab1",
   "metadata": {},
   "outputs": [
    {
     "name": "stdout",
     "output_type": "stream",
     "text": [
      "1/1 [==============================] - 0s 120ms/step\n",
      "Prediction: but\n",
      "Confidence: 0.95907766\n",
      "Truth: but\n"
     ]
    },
    {
     "data": {
      "image/png": "[encoded data removed]",
      "text/plain": [
       "<Figure size 432x288 with 1 Axes>"
      ]
     },
     "metadata": {
      "needs_background": "light"
     },
     "output_type": "display_data"
    }
   ],
   "source": [
    "image_index = np.random.randint(len(X_test))\n",
    "image = np.array([X_test[image_index]])\n",
    "confidences = model.predict(image)\n",
    "confidence = np.max(confidences[0])\n",
    "prediction = np.argmax(confidences[0])\n",
    "print(\"Prediction:\", class_names[prediction])\n",
    "print(\"Confidence:\", confidence)\n",
    "print(\"Truth:\", class_names[y_test[image_index]])\n",
    "plt.imshow(image[0], cmap=\"binary\")\n",
    "plt.axis('off')\n",
    "plt.show()"
   ]
  },
  {
   "cell_type": "code",
   "execution_count": 14,
   "id": "45494452-c9fa-4287-8589-fc08133a302c",
   "metadata": {},
   "outputs": [],
   "source": [
    "model.save('fashion_clf.h5')"
   ]
  },
  {
   "cell_type": "markdown",
   "id": "7493ba05-5ee7-4f03-af1c-eff8b8b0d357",
   "metadata": {},
   "source": [
    "## Regresja"
   ]
  },
  {
   "cell_type": "code",
   "execution_count": 15,
   "id": "dfbf3516-7562-4270-b017-a46fb3f764ea",
   "metadata": {},
   "outputs": [],
   "source": [
    "from sklearn.datasets import fetch_california_housing\n",
    "from sklearn.model_selection import train_test_split\n",
    "from sklearn.preprocessing import StandardScaler\n",
    "import tensorflow as tf\n",
    "from tensorflow import keras\n",
    "housing = fetch_california_housing()"
   ]
  },
  {
   "cell_type": "markdown",
   "id": "3cd88210-3ee8-4b89-b0d2-9892ab826417",
   "metadata": {},
   "source": [
    "Zbiory: uczacy, walidacyjny i tstowy"
   ]
  },
  {
   "cell_type": "code",
   "execution_count": 16,
   "id": "30fc250e-f46f-4919-8d3a-0b9eb7885930",
   "metadata": {},
   "outputs": [],
   "source": [
    "X_train_full, X_test, y_train_full, y_test = train_test_split(housing.data,\n",
    "                                                              housing.target, random_state=42)\n",
    "X_train, X_valid, y_train, y_valid = train_test_split(X_train_full,\n",
    "                                                      y_train_full, random_state=42)"
   ]
  },
  {
   "cell_type": "markdown",
   "id": "fb5d5797-211a-4b9a-976a-e1732b1e9381",
   "metadata": {},
   "source": [
    "Przeskaluj wszystkie zbiory cech, kalibrując funkcję normalizacyjną do zbioru uczącego:"
   ]
  },
  {
   "cell_type": "code",
   "execution_count": 17,
   "id": "b254a819-041a-4868-8be3-f058f81dc6b2",
   "metadata": {},
   "outputs": [],
   "source": [
    "scaler = StandardScaler()\n",
    "X_train = scaler.fit_transform(X_train)\n",
    "X_valid = scaler.transform(X_valid)\n",
    "X_test = scaler.transform(X_test)"
   ]
  },
  {
   "cell_type": "markdown",
   "id": "8bba880e-1b83-40f0-beef-7f8fa09dd9f4",
   "metadata": {},
   "source": [
    "model, zawierający jedną warstwę ukrytą z 30 neuronami, odpowiedni do regresji jed- nego parametru wyjściowego obecnego w zbiorze danych. Skompiluj go używając błędu średniok- wadratwego jako funkcji straty i SGD jako optymalizatora."
   ]
  },
  {
   "cell_type": "code",
   "execution_count": 18,
   "id": "51833021-109c-46bc-8971-b0a1be08db9a",
   "metadata": {},
   "outputs": [],
   "source": [
    "model = keras.models.Sequential([\n",
    "    keras.layers.Dense(30, activation = \"relu\", input_shape=X_train.shape[1:]),\n",
    "    keras.layers.Dense(1)\n",
    "])"
   ]
  },
  {
   "cell_type": "code",
   "execution_count": 19,
   "id": "fb3060c9-cf93-4365-a7c4-d4ae03190608",
   "metadata": {},
   "outputs": [
    {
     "data": {
      "text/plain": [
       "<bound method Model.summary of <keras.engine.sequential.Sequential object at 0x7f82e4e9a670>>"
      ]
     },
     "execution_count": 19,
     "metadata": {},
     "output_type": "execute_result"
    }
   ],
   "source": [
    "model.summary"
   ]
  },
  {
   "cell_type": "code",
   "execution_count": 20,
   "id": "d2decef1-4a0a-4bba-9cff-f42304e9a3ca",
   "metadata": {},
   "outputs": [],
   "source": [
    "model.compile(loss= \"mean_squared_error\",\n",
    "              optimizer=\"sgd\",\n",
    "              metrics=[\"mse\"])"
   ]
  },
  {
   "cell_type": "markdown",
   "id": "1a195ca2-7cb2-404c-be08-795015c59efe",
   "metadata": {},
   "source": [
    "*early stopping*"
   ]
  },
  {
   "cell_type": "code",
   "execution_count": 21,
   "id": "bc4231fe-e3ad-4d83-a470-3b08d4acfd18",
   "metadata": {},
   "outputs": [],
   "source": [
    "es = tf.keras.callbacks.EarlyStopping(patience=5,\n",
    "                                      min_delta=0.01,\n",
    "                                      verbose=1)\n",
    "tensorboard_cb = keras.callbacks.TensorBoard(get_run_logdir(\"regresor_logs\"))"
   ]
  },
  {
   "cell_type": "code",
   "execution_count": 22,
   "id": "cf74f68a-74df-4620-b10a-54c97f912dfa",
   "metadata": {},
   "outputs": [
    {
     "name": "stdout",
     "output_type": "stream",
     "text": [
      "Epoch 1/100\n",
      "363/363 [==============================] - 2s 3ms/step - loss: 0.8809 - mse: 0.8809 - val_loss: 14.1815 - val_mse: 14.1815\n",
      "Epoch 2/100\n",
      "363/363 [==============================] - 1s 3ms/step - loss: 0.5251 - mse: 0.5251 - val_loss: 2.7083 - val_mse: 2.7083\n",
      "Epoch 3/100\n",
      "363/363 [==============================] - 1s 3ms/step - loss: 0.4690 - mse: 0.4690 - val_loss: 0.4016 - val_mse: 0.4016\n",
      "Epoch 4/100\n",
      "363/363 [==============================] - 1s 2ms/step - loss: 0.4224 - mse: 0.4224 - val_loss: 0.3902 - val_mse: 0.3902\n",
      "Epoch 5/100\n",
      "363/363 [==============================] - 1s 3ms/step - loss: 0.4149 - mse: 0.4149 - val_loss: 0.3842 - val_mse: 0.3842\n",
      "Epoch 6/100\n",
      "363/363 [==============================] - 1s 2ms/step - loss: 0.4075 - mse: 0.4075 - val_loss: 0.3773 - val_mse: 0.3773\n",
      "Epoch 7/100\n",
      "363/363 [==============================] - 1s 2ms/step - loss: 0.4200 - mse: 0.4200 - val_loss: 0.3725 - val_mse: 0.3725\n",
      "Epoch 8/100\n",
      "363/363 [==============================] - 1s 3ms/step - loss: 0.3921 - mse: 0.3921 - val_loss: 0.3852 - val_mse: 0.3852\n",
      "Epoch 9/100\n",
      "363/363 [==============================] - 1s 3ms/step - loss: 0.3875 - mse: 0.3875 - val_loss: 0.3773 - val_mse: 0.3773\n",
      "Epoch 10/100\n",
      "363/363 [==============================] - 1s 2ms/step - loss: 0.3793 - mse: 0.3793 - val_loss: 0.3672 - val_mse: 0.3672\n",
      "Epoch 11/100\n",
      "363/363 [==============================] - 1s 2ms/step - loss: 0.3824 - mse: 0.3824 - val_loss: 0.4201 - val_mse: 0.4201\n",
      "Epoch 12/100\n",
      "363/363 [==============================] - 1s 3ms/step - loss: 0.3767 - mse: 0.3767 - val_loss: 0.3523 - val_mse: 0.3523\n",
      "Epoch 13/100\n",
      "363/363 [==============================] - 1s 3ms/step - loss: 0.3733 - mse: 0.3733 - val_loss: 0.4517 - val_mse: 0.4517\n",
      "Epoch 14/100\n",
      "363/363 [==============================] - 1s 3ms/step - loss: 0.3677 - mse: 0.3677 - val_loss: 0.3427 - val_mse: 0.3427\n",
      "Epoch 15/100\n",
      "363/363 [==============================] - 1s 4ms/step - loss: 0.3678 - mse: 0.3678 - val_loss: 0.3397 - val_mse: 0.3397\n",
      "Epoch 16/100\n",
      "363/363 [==============================] - 1s 2ms/step - loss: 0.3632 - mse: 0.3632 - val_loss: 0.3638 - val_mse: 0.3638\n",
      "Epoch 17/100\n",
      "363/363 [==============================] - 1s 2ms/step - loss: 0.3607 - mse: 0.3607 - val_loss: 0.3371 - val_mse: 0.3371\n",
      "Epoch 18/100\n",
      "363/363 [==============================] - 1s 4ms/step - loss: 0.3631 - mse: 0.3631 - val_loss: 0.3673 - val_mse: 0.3673\n",
      "Epoch 19/100\n",
      "363/363 [==============================] - 1s 2ms/step - loss: 0.3610 - mse: 0.3610 - val_loss: 0.3482 - val_mse: 0.3482\n",
      "Epoch 20/100\n",
      "363/363 [==============================] - 1s 2ms/step - loss: 0.3565 - mse: 0.3565 - val_loss: 0.6480 - val_mse: 0.6480\n",
      "Epoch 20: early stopping\n"
     ]
    }
   ],
   "source": [
    "history = model.fit(X_train, y_train, epochs=100,\n",
    "                    validation_data=(X_valid,y_valid),\n",
    "                    callbacks=[es,tensorboard_cb])"
   ]
  },
  {
   "cell_type": "code",
   "execution_count": 23,
   "id": "409dc459-c818-4453-b132-a9dc8adfbcc4",
   "metadata": {},
   "outputs": [],
   "source": [
    "model.save('reg_housing_1.h5')"
   ]
  },
  {
   "cell_type": "markdown",
   "id": "a64f2893-3d68-4fd7-9ff6-e98a0b40a1f7",
   "metadata": {},
   "source": [
    "dodatkowy eksperyment #1"
   ]
  },
  {
   "cell_type": "code",
   "execution_count": 24,
   "id": "c35f2c44-a826-4175-8d92-198ef4ec3a9b",
   "metadata": {},
   "outputs": [],
   "source": [
    "model = keras.models.Sequential([\n",
    "    keras.layers.Dense(300, activation = \"relu\", input_shape=X_train.shape[1:]),\n",
    "    keras.layers.Dense(1)\n",
    "])"
   ]
  },
  {
   "cell_type": "code",
   "execution_count": 25,
   "id": "c91ad31d-a15c-4ef5-9d5a-da073483f9fd",
   "metadata": {},
   "outputs": [
    {
     "data": {
      "text/plain": [
       "<bound method Model.summary of <keras.engine.sequential.Sequential object at 0x7f82c3f9a370>>"
      ]
     },
     "execution_count": 25,
     "metadata": {},
     "output_type": "execute_result"
    }
   ],
   "source": [
    "model.summary"
   ]
  },
  {
   "cell_type": "code",
   "execution_count": 26,
   "id": "c56326a6-ebd9-4571-ace7-8aa3cd010d68",
   "metadata": {},
   "outputs": [],
   "source": [
    "model.compile(loss= \"mean_squared_error\",\n",
    "              optimizer=\"sgd\",\n",
    "              metrics=[\"mse\"])"
   ]
  },
  {
   "cell_type": "markdown",
   "id": "8b3937eb-dffd-4a15-b681-83f91db1e27d",
   "metadata": {},
   "source": [
    "*early stopping*"
   ]
  },
  {
   "cell_type": "code",
   "execution_count": 27,
   "id": "13468853-0bb1-4c8c-9182-03b80af4cd02",
   "metadata": {},
   "outputs": [],
   "source": [
    "es = tf.keras.callbacks.EarlyStopping(patience=5,\n",
    "                                      min_delta=0.01,\n",
    "                                      verbose=1)\n",
    "tensorboard_cb = keras.callbacks.TensorBoard(get_run_logdir(\"regresor_logs\"))"
   ]
  },
  {
   "cell_type": "code",
   "execution_count": 28,
   "id": "2a7306a8-3250-41bb-974c-128a270a4e94",
   "metadata": {},
   "outputs": [
    {
     "name": "stdout",
     "output_type": "stream",
     "text": [
      "Epoch 1/100\n",
      "363/363 [==============================] - 2s 3ms/step - loss: 0.7500 - mse: 0.7500 - val_loss: 2.0716 - val_mse: 2.0716\n",
      "Epoch 2/100\n",
      "363/363 [==============================] - 1s 2ms/step - loss: 0.5070 - mse: 0.5070 - val_loss: 6.0808 - val_mse: 6.0808\n",
      "Epoch 3/100\n",
      "363/363 [==============================] - 1s 2ms/step - loss: 0.4382 - mse: 0.4382 - val_loss: 17.3476 - val_mse: 17.3476\n",
      "Epoch 4/100\n",
      "363/363 [==============================] - 1s 2ms/step - loss: 0.7045 - mse: 0.7045 - val_loss: 2.8587 - val_mse: 2.8587\n",
      "Epoch 5/100\n",
      "363/363 [==============================] - 1s 2ms/step - loss: 0.4508 - mse: 0.4508 - val_loss: 2.2499 - val_mse: 2.2499\n",
      "Epoch 6/100\n",
      "363/363 [==============================] - 2s 5ms/step - loss: 0.4594 - mse: 0.4594 - val_loss: 0.3634 - val_mse: 0.3634\n",
      "Epoch 7/100\n",
      "363/363 [==============================] - 1s 2ms/step - loss: 0.3845 - mse: 0.3845 - val_loss: 0.3732 - val_mse: 0.3732\n",
      "Epoch 8/100\n",
      "363/363 [==============================] - 1s 2ms/step - loss: 0.3779 - mse: 0.3779 - val_loss: 0.3657 - val_mse: 0.3657\n",
      "Epoch 9/100\n",
      "363/363 [==============================] - 1s 2ms/step - loss: 0.3722 - mse: 0.3722 - val_loss: 0.3602 - val_mse: 0.3602\n",
      "Epoch 10/100\n",
      "363/363 [==============================] - 1s 2ms/step - loss: 0.3766 - mse: 0.3766 - val_loss: 0.4030 - val_mse: 0.4030\n",
      "Epoch 11/100\n",
      "363/363 [==============================] - 1s 2ms/step - loss: 0.3616 - mse: 0.3616 - val_loss: 0.3656 - val_mse: 0.3656\n",
      "Epoch 11: early stopping\n"
     ]
    }
   ],
   "source": [
    "history = model.fit(X_train, y_train, epochs=100,\n",
    "                    validation_data=(X_valid,y_valid),\n",
    "                    callbacks=[es,tensorboard_cb])"
   ]
  },
  {
   "cell_type": "code",
   "execution_count": 29,
   "id": "12d0d1b4-3ea6-42ae-8d8f-3f5e141532bf",
   "metadata": {},
   "outputs": [],
   "source": [
    "model.save('reg_housing_2.h5')"
   ]
  },
  {
   "cell_type": "markdown",
   "id": "b0bbb0d0-9f90-4c0f-a577-65920768dd95",
   "metadata": {},
   "source": [
    "Dodatkowy eksperyment #2"
   ]
  },
  {
   "cell_type": "code",
   "execution_count": 30,
   "id": "01d14b8e-17e4-4edc-9d42-27077cc13f24",
   "metadata": {},
   "outputs": [],
   "source": [
    "model = keras.models.Sequential([\n",
    "    keras.layers.Dense(200, activation = \"relu\", input_shape=X_train.shape[1:]),\n",
    "    keras.layers.Dense(100, activation = \"relu\"),\n",
    "    keras.layers.Dense(1)\n",
    "])"
   ]
  },
  {
   "cell_type": "code",
   "execution_count": 31,
   "id": "2dd68967-c0e0-41a3-a28f-71b248893823",
   "metadata": {},
   "outputs": [
    {
     "data": {
      "text/plain": [
       "<bound method Model.summary of <keras.engine.sequential.Sequential object at 0x7f82c4a3deb0>>"
      ]
     },
     "execution_count": 31,
     "metadata": {},
     "output_type": "execute_result"
    }
   ],
   "source": [
    "model.summary"
   ]
  },
  {
   "cell_type": "code",
   "execution_count": 32,
   "id": "17e735d2-1185-4de0-8887-5bcfe883f6d3",
   "metadata": {},
   "outputs": [],
   "source": [
    "model.compile(loss= \"mean_squared_error\",\n",
    "              optimizer=\"sgd\",\n",
    "              metrics=[\"mse\"])"
   ]
  },
  {
   "cell_type": "markdown",
   "id": "32e01516-edba-4eef-8655-80ef6040a19e",
   "metadata": {},
   "source": [
    "*early stopping*"
   ]
  },
  {
   "cell_type": "code",
   "execution_count": 33,
   "id": "ca5fcddb-150d-41fb-b9dd-fad7762075f9",
   "metadata": {},
   "outputs": [],
   "source": [
    "es = tf.keras.callbacks.EarlyStopping(patience=5,\n",
    "                                      min_delta=0.01,\n",
    "                                      verbose=1)\n",
    "tensorboard_cb = keras.callbacks.TensorBoard(get_run_logdir(\"regresor_logs\"))"
   ]
  },
  {
   "cell_type": "code",
   "execution_count": 34,
   "id": "9a634983-51c5-4cfa-bd0a-992c4d58cb67",
   "metadata": {},
   "outputs": [
    {
     "name": "stdout",
     "output_type": "stream",
     "text": [
      "Epoch 1/100\n",
      "363/363 [==============================] - 1s 3ms/step - loss: 0.6728 - mse: 0.6728 - val_loss: 3.2730 - val_mse: 3.2730\n",
      "Epoch 2/100\n",
      "363/363 [==============================] - 1s 2ms/step - loss: 0.4426 - mse: 0.4426 - val_loss: 5.6006 - val_mse: 5.6006\n",
      "Epoch 3/100\n",
      "363/363 [==============================] - 1s 4ms/step - loss: 0.4426 - mse: 0.4426 - val_loss: 2.9240 - val_mse: 2.9240\n",
      "Epoch 4/100\n",
      "363/363 [==============================] - 2s 4ms/step - loss: 0.3921 - mse: 0.3921 - val_loss: 12.8733 - val_mse: 12.8733\n",
      "Epoch 5/100\n",
      "363/363 [==============================] - 1s 3ms/step - loss: 0.4666 - mse: 0.4666 - val_loss: 2.8714 - val_mse: 2.8714\n",
      "Epoch 6/100\n",
      "363/363 [==============================] - 1s 2ms/step - loss: 0.3781 - mse: 0.3781 - val_loss: 2.2018 - val_mse: 2.2018\n",
      "Epoch 7/100\n",
      "363/363 [==============================] - 1s 3ms/step - loss: 0.3700 - mse: 0.3700 - val_loss: 0.4278 - val_mse: 0.4278\n",
      "Epoch 8/100\n",
      "363/363 [==============================] - 1s 2ms/step - loss: 0.3478 - mse: 0.3478 - val_loss: 0.3771 - val_mse: 0.3771\n",
      "Epoch 9/100\n",
      "363/363 [==============================] - 1s 2ms/step - loss: 0.3419 - mse: 0.3419 - val_loss: 0.3311 - val_mse: 0.3311\n",
      "Epoch 10/100\n",
      "363/363 [==============================] - 1s 3ms/step - loss: 0.3356 - mse: 0.3356 - val_loss: 0.3235 - val_mse: 0.3235\n",
      "Epoch 11/100\n",
      "363/363 [==============================] - 2s 4ms/step - loss: 0.3323 - mse: 0.3323 - val_loss: 0.4276 - val_mse: 0.4276\n",
      "Epoch 12/100\n",
      "363/363 [==============================] - 1s 3ms/step - loss: 0.3289 - mse: 0.3289 - val_loss: 0.3194 - val_mse: 0.3194\n",
      "Epoch 13/100\n",
      "363/363 [==============================] - 1s 3ms/step - loss: 0.3257 - mse: 0.3257 - val_loss: 0.3954 - val_mse: 0.3954\n",
      "Epoch 14/100\n",
      "363/363 [==============================] - 1s 3ms/step - loss: 0.3239 - mse: 0.3239 - val_loss: 0.3162 - val_mse: 0.3162\n",
      "Epoch 15/100\n",
      "363/363 [==============================] - 1s 2ms/step - loss: 0.3193 - mse: 0.3193 - val_loss: 0.3591 - val_mse: 0.3591\n",
      "Epoch 16/100\n",
      "363/363 [==============================] - 1s 3ms/step - loss: 0.3193 - mse: 0.3193 - val_loss: 0.3074 - val_mse: 0.3074\n",
      "Epoch 17/100\n",
      "363/363 [==============================] - 1s 3ms/step - loss: 0.3151 - mse: 0.3151 - val_loss: 0.3017 - val_mse: 0.3017\n",
      "Epoch 18/100\n",
      "363/363 [==============================] - 1s 3ms/step - loss: 0.3132 - mse: 0.3132 - val_loss: 0.2977 - val_mse: 0.2977\n",
      "Epoch 19/100\n",
      "363/363 [==============================] - 1s 2ms/step - loss: 0.3105 - mse: 0.3105 - val_loss: 0.2970 - val_mse: 0.2970\n",
      "Epoch 20/100\n",
      "363/363 [==============================] - 1s 2ms/step - loss: 0.3072 - mse: 0.3072 - val_loss: 0.3660 - val_mse: 0.3660\n",
      "Epoch 21/100\n",
      "363/363 [==============================] - 1s 3ms/step - loss: 0.3103 - mse: 0.3103 - val_loss: 0.2977 - val_mse: 0.2977\n",
      "Epoch 22/100\n",
      "363/363 [==============================] - 1s 3ms/step - loss: 0.3046 - mse: 0.3046 - val_loss: 0.3815 - val_mse: 0.3815\n",
      "Epoch 23/100\n",
      "363/363 [==============================] - 1s 2ms/step - loss: 0.3033 - mse: 0.3033 - val_loss: 0.2969 - val_mse: 0.2969\n",
      "Epoch 24/100\n",
      "363/363 [==============================] - 1s 3ms/step - loss: 0.2997 - mse: 0.2997 - val_loss: 0.3076 - val_mse: 0.3076\n",
      "Epoch 24: early stopping\n"
     ]
    }
   ],
   "source": [
    "history = model.fit(X_train, y_train, epochs=100,\n",
    "                    validation_data=(X_valid,y_valid),\n",
    "                    callbacks=[es,tensorboard_cb])"
   ]
  },
  {
   "cell_type": "code",
   "execution_count": 35,
   "id": "0e7084cd-e4d3-45d4-84af-295bd108116a",
   "metadata": {},
   "outputs": [],
   "source": [
    "model.save('reg_housing_3.h5')"
   ]
  },
  {
   "cell_type": "code",
   "execution_count": null,
   "id": "c38c8ee5-c2c2-47cb-ad42-a0c34bd600a6",
   "metadata": {},
   "outputs": [],
   "source": []
  }
 ],
 "metadata": {
  "kernelspec": {
   "display_name": "Python 3 (ipykernel)",
   "language": "python",
   "name": "python3"
  },
  "language_info": {
   "codemirror_mode": {
    "name": "ipython",
    "version": 3
   },
   "file_extension": ".py",
   "mimetype": "text/x-python",
   "name": "python",
   "nbconvert_exporter": "python",
   "pygments_lexer": "ipython3",
   "version": "3.9.12"
  }
 },
 "nbformat": 4,
 "nbformat_minor": 5
}
