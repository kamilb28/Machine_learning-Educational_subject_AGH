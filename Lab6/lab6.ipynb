{
 "cells": [
  {
   "cell_type": "markdown",
   "id": "14e413a8-fcd9-4d36-8dcb-ae4ad58faa31",
   "metadata": {},
   "source": [
    "# Lab6 Metody zespolowe"
   ]
  },
  {
   "cell_type": "code",
   "execution_count": 1,
   "id": "ea809f1c-1802-4486-9532-b2ca5683b609",
   "metadata": {},
   "outputs": [],
   "source": [
    "from sklearn import datasets\n",
    "data_breast_cancer = datasets.load_breast_cancer(as_frame=True)"
   ]
  },
  {
   "cell_type": "markdown",
   "id": "df1d2af8-b0b7-40b1-aa24-e198e57ba30b",
   "metadata": {},
   "source": [
    "### 1. Podziel zbiór data_breast_cancer na uczący i testujący"
   ]
  },
  {
   "cell_type": "code",
   "execution_count": 2,
   "id": "c568fce4-b296-4b7d-85ad-c23d61ea2a35",
   "metadata": {},
   "outputs": [],
   "source": [
    "import pandas as pd\n",
    "\n",
    "X_cancer = data_breast_cancer.data[[\"mean texture\", \"mean symmetry\"]].copy()\n",
    "y_cancer = data_breast_cancer.target"
   ]
  },
  {
   "cell_type": "code",
   "execution_count": 3,
   "id": "7487f348-c10f-4b76-bedb-389d2c3fbb1c",
   "metadata": {},
   "outputs": [],
   "source": [
    "from sklearn.model_selection import train_test_split\n",
    "X_train, X_test, y_train, y_test = train_test_split(X_cancer, y_cancer, \n",
    "                                                    test_size=0.20, random_state=42)"
   ]
  },
  {
   "cell_type": "markdown",
   "id": "37438e89-b329-42db-bbf1-0492f7d32b3c",
   "metadata": {},
   "source": [
    "### 2. Zbuduj ensemble używając klasyfikatorów binarnych"
   ]
  },
  {
   "cell_type": "markdown",
   "id": "1f48b948-ee39-434e-b12e-94fd68de2fc2",
   "metadata": {},
   "source": [
    "* drzewa decyzyjne"
   ]
  },
  {
   "cell_type": "code",
   "execution_count": 4,
   "id": "746b7dfa-239a-468c-ab3a-021d399186a1",
   "metadata": {},
   "outputs": [],
   "source": [
    "from sklearn.tree import DecisionTreeClassifier\n",
    "tree_clf = DecisionTreeClassifier()"
   ]
  },
  {
   "cell_type": "markdown",
   "id": "86df3eed-7573-4366-9586-c345010169aa",
   "metadata": {},
   "source": [
    "* regresja logistyczna"
   ]
  },
  {
   "cell_type": "code",
   "execution_count": 5,
   "id": "3dbd8fe7-65ab-48bd-88a3-2e25b11ad79e",
   "metadata": {},
   "outputs": [],
   "source": [
    "from sklearn.linear_model import LogisticRegression\n",
    "log_clf = LogisticRegression()"
   ]
  },
  {
   "cell_type": "markdown",
   "id": "c7ffe876-ddc7-4e34-b4a7-6d10c9625e7e",
   "metadata": {},
   "source": [
    "* KNN"
   ]
  },
  {
   "cell_type": "code",
   "execution_count": 6,
   "id": "abdd7f02-83fb-40aa-9197-b2d27cb05613",
   "metadata": {},
   "outputs": [],
   "source": [
    "from sklearn.neighbors import KNeighborsClassifier\n",
    "knn_clf = KNeighborsClassifier()"
   ]
  },
  {
   "cell_type": "markdown",
   "id": "120ff6d1-01fa-45ad-af90-e17574b786a6",
   "metadata": {},
   "source": [
    "* zespol glosujacy typu *hard* oraz *soft*"
   ]
  },
  {
   "cell_type": "code",
   "execution_count": 7,
   "id": "4c1c0c05-1ef0-42b4-9c4b-08bc6921fc2b",
   "metadata": {},
   "outputs": [],
   "source": [
    "from sklearn.ensemble import VotingClassifier"
   ]
  },
  {
   "cell_type": "code",
   "execution_count": 8,
   "id": "0c5696cc-4a91-4a91-bd08-e582faa262f8",
   "metadata": {},
   "outputs": [],
   "source": [
    "hardvoting_clf = VotingClassifier(\n",
    "    estimators=[('tree', tree_clf),\n",
    "                ('log', log_clf),\n",
    "                ('knn', knn_clf)],\n",
    "    voting='hard')"
   ]
  },
  {
   "cell_type": "code",
   "execution_count": 9,
   "id": "6520959c-f3d6-46c2-81a1-b31d02a648c6",
   "metadata": {},
   "outputs": [],
   "source": [
    "softvoting_clf = VotingClassifier(\n",
    "    estimators=[('tree', tree_clf),\n",
    "                ('log', log_clf),\n",
    "                ('knn', knn_clf)],\n",
    "    voting='soft')"
   ]
  },
  {
   "cell_type": "markdown",
   "id": "6184353b-3a90-4057-bce6-406e1be64a89",
   "metadata": {},
   "source": [
    "### 3. Porównaj dokładność ww. klasyfikatorów"
   ]
  },
  {
   "cell_type": "code",
   "execution_count": 10,
   "id": "16f2e73e-3a48-4936-8537-86dd8155576d",
   "metadata": {},
   "outputs": [
    {
     "name": "stdout",
     "output_type": "stream",
     "text": [
      "DecisionTreeClassifier - train: 1.0 test: 0.631578947368421\n",
      "LogisticRegression - train: 0.7230769230769231 test: 0.7017543859649122\n",
      "KNeighborsClassifier - train: 0.7714285714285715 test: 0.6403508771929824\n",
      "VotingClassifier - train: 0.8351648351648352 test: 0.6929824561403509\n",
      "VotingClassifier - train: 0.9648351648351648 test: 0.6666666666666666\n"
     ]
    }
   ],
   "source": [
    "from sklearn.metrics import accuracy_score\n",
    "\n",
    "acc_vote = []\n",
    "\n",
    "for clf in (tree_clf, log_clf, knn_clf, hardvoting_clf, softvoting_clf):\n",
    "    clf.fit(X_train, y_train)\n",
    "    \n",
    "    y_pred_train = clf.predict(X_train)\n",
    "    y_pred_test = clf.predict(X_test)\n",
    "    \n",
    "    acc_vote.append((accuracy_score(y_train, y_pred_train), \n",
    "                    accuracy_score(y_test, y_pred_test)))\n",
    "    \n",
    "    print(clf.__class__.__name__, \"-\",\n",
    "          \"train:\", accuracy_score(y_train, y_pred_train),\n",
    "          \"test:\", accuracy_score(y_test, y_pred_test))"
   ]
  },
  {
   "cell_type": "markdown",
   "id": "581fc32d-55e3-49ae-9262-daa9477a4904",
   "metadata": {},
   "source": [
    "### 4. Zapisywanie do pliku rezultatow"
   ]
  },
  {
   "cell_type": "code",
   "execution_count": 11,
   "id": "87617b69-3639-4daa-9a2c-81e8af761d5e",
   "metadata": {},
   "outputs": [
    {
     "name": "stdout",
     "output_type": "stream",
     "text": [
      "[(1.0, 0.631578947368421), (0.7230769230769231, 0.7017543859649122), (0.7714285714285715, 0.6403508771929824), (0.8351648351648352, 0.6929824561403509), (0.9648351648351648, 0.6666666666666666)]\n"
     ]
    }
   ],
   "source": [
    "import pickle\n",
    "with open('acc_vote.pkl','wb') as f: pickle.dump(acc_vote, f)\n",
    "\n",
    "#sprawdzenie zawartosci pliku\n",
    "with open('acc_vote.pkl','rb') as f: print(pickle.load(f))"
   ]
  },
  {
   "cell_type": "code",
   "execution_count": 12,
   "id": "c3058cdf-c62d-4c86-85c5-a4ef225a4e7b",
   "metadata": {},
   "outputs": [
    {
     "name": "stdout",
     "output_type": "stream",
     "text": [
      "[DecisionTreeClassifier(), LogisticRegression(), KNeighborsClassifier(), VotingClassifier(estimators=[('tree', DecisionTreeClassifier()),\n",
      "                             ('log', LogisticRegression()),\n",
      "                             ('knn', KNeighborsClassifier())]), VotingClassifier(estimators=[('tree', DecisionTreeClassifier()),\n",
      "                             ('log', LogisticRegression()),\n",
      "                             ('knn', KNeighborsClassifier())],\n",
      "                 voting='soft')]\n"
     ]
    }
   ],
   "source": [
    "vote = [tree_clf, log_clf, knn_clf, hardvoting_clf, softvoting_clf]\n",
    "with open('vote.pkl','wb') as f: pickle.dump(vote, f)\n",
    "\n",
    "#sprawdzenie zawartosci pliku\n",
    "with open('vote.pkl','rb') as f: print(pickle.load(f))"
   ]
  },
  {
   "cell_type": "markdown",
   "id": "97e70e16-e4af-4830-b00e-a726ad1b68c3",
   "metadata": {},
   "source": [
    "### 5. Wykonaj: Bagging, Bagging 50%, Pasting, Pasting 50%, random Forest, AdaBoost, Gradient Boosting\n",
    "-> wykorzystujac 30 drzew decyzyjnych"
   ]
  },
  {
   "cell_type": "markdown",
   "id": "27539646-10eb-4878-8cc4-ac47da783815",
   "metadata": {},
   "source": [
    "* Bagging"
   ]
  },
  {
   "cell_type": "code",
   "execution_count": 13,
   "id": "5743ae47-89ae-45e6-8dbf-1b3894d003ac",
   "metadata": {},
   "outputs": [],
   "source": [
    "from sklearn.ensemble import BaggingClassifier\n",
    "from sklearn.tree import DecisionTreeClassifier\n",
    "\n",
    "bag_clf = BaggingClassifier(DecisionTreeClassifier(), \n",
    "                            n_estimators=30, max_samples=1.0, bootstrap=True)"
   ]
  },
  {
   "cell_type": "markdown",
   "id": "a00325fe-8b32-47ad-9a45-fb29c9407294",
   "metadata": {},
   "source": [
    "* Bagging 50% "
   ]
  },
  {
   "cell_type": "code",
   "execution_count": 14,
   "id": "6a6ad364-4052-4e1f-a7b7-caf1f879bf8c",
   "metadata": {},
   "outputs": [],
   "source": [
    "bag_h_clf = BaggingClassifier(DecisionTreeClassifier(), \n",
    "                            n_estimators=30, max_samples=0.5, bootstrap=True)"
   ]
  },
  {
   "cell_type": "markdown",
   "id": "9feda8a8-fe5c-45d6-84b3-7e69d62b0552",
   "metadata": {},
   "source": [
    "* Pasting"
   ]
  },
  {
   "cell_type": "code",
   "execution_count": 15,
   "id": "ebcce1b3-7653-4057-a6f6-8fabdc4dd0c1",
   "metadata": {},
   "outputs": [],
   "source": [
    "pas_clf = BaggingClassifier(DecisionTreeClassifier(), \n",
    "                            n_estimators=30, max_samples=1.0, bootstrap=False)"
   ]
  },
  {
   "cell_type": "markdown",
   "id": "8236626e-c7a5-4505-8bc1-53d55e22f090",
   "metadata": {},
   "source": [
    "* Pasting 50%"
   ]
  },
  {
   "cell_type": "code",
   "execution_count": 16,
   "id": "12652fb7-ca6c-4121-88b1-f2d76485d0eb",
   "metadata": {},
   "outputs": [],
   "source": [
    "pas_h_clf = BaggingClassifier(DecisionTreeClassifier(), \n",
    "                            n_estimators=30, max_samples=0.5, bootstrap=False)"
   ]
  },
  {
   "cell_type": "markdown",
   "id": "54bbdfa1-12e5-4cfa-9f89-6d38a07a93a4",
   "metadata": {},
   "source": [
    "* Random Forest"
   ]
  },
  {
   "cell_type": "code",
   "execution_count": 17,
   "id": "87ceeef2-6dd8-49bb-a50c-bdd16f0f99f6",
   "metadata": {},
   "outputs": [],
   "source": [
    "from sklearn.ensemble import RandomForestClassifier\n",
    "rnd_clf = RandomForestClassifier(n_estimators=30)"
   ]
  },
  {
   "cell_type": "markdown",
   "id": "e0d81de2-78ba-4f76-8f6e-8306eada8464",
   "metadata": {},
   "source": [
    "* AdaBoost"
   ]
  },
  {
   "cell_type": "code",
   "execution_count": 18,
   "id": "88ff87f5-8f06-4434-ac69-5c1e4d2b8726",
   "metadata": {},
   "outputs": [],
   "source": [
    "from sklearn.ensemble import AdaBoostClassifier\n",
    "ada_clf = AdaBoostClassifier(n_estimators=30)"
   ]
  },
  {
   "cell_type": "markdown",
   "id": "85276739-69d9-44a8-b6e9-06252968cd0a",
   "metadata": {},
   "source": [
    "* Gradient Boosting"
   ]
  },
  {
   "cell_type": "code",
   "execution_count": 19,
   "id": "14042565-a169-4593-8918-6900fccdc7ed",
   "metadata": {},
   "outputs": [],
   "source": [
    "from sklearn.ensemble import GradientBoostingClassifier\n",
    "grb_clf = GradientBoostingClassifier(n_estimators=30)"
   ]
  },
  {
   "cell_type": "markdown",
   "id": "0c41fbb7-3e98-4b36-87b4-c80b635c43e2",
   "metadata": {},
   "source": [
    "### 6. Oblicz dokladnosci"
   ]
  },
  {
   "cell_type": "code",
   "execution_count": 20,
   "id": "f1cfe31a-22d7-4065-910e-7c485ce7bee0",
   "metadata": {},
   "outputs": [
    {
     "name": "stdout",
     "output_type": "stream",
     "text": [
      "BaggingClassifier - train: 0.9978021978021978 test: 0.6491228070175439\n",
      "BaggingClassifier - train: 0.9208791208791208 test: 0.7017543859649122\n",
      "BaggingClassifier - train: 1.0 test: 0.6228070175438597\n",
      "BaggingClassifier - train: 0.9648351648351648 test: 0.6842105263157895\n",
      "RandomForestClassifier - train: 0.9956043956043956 test: 0.6666666666666666\n",
      "AdaBoostClassifier - train: 0.8 test: 0.7368421052631579\n",
      "GradientBoostingClassifier - train: 0.8373626373626374 test: 0.7105263157894737\n"
     ]
    }
   ],
   "source": [
    "from sklearn.metrics import accuracy_score\n",
    "\n",
    "bag = [bag_clf, bag_h_clf, pas_clf, pas_h_clf, rnd_clf, ada_clf, grb_clf]\n",
    "acc_bag = []\n",
    "\n",
    "for clf in bag:\n",
    "    clf.fit(X_train, y_train)\n",
    "    \n",
    "    y_pred_train = clf.predict(X_train)\n",
    "    y_pred_test = clf.predict(X_test)\n",
    "    \n",
    "    acc_bag.append((accuracy_score(y_train, y_pred_train), \n",
    "                    accuracy_score(y_test, y_pred_test)))\n",
    "    \n",
    "    print(clf.__class__.__name__, \"-\",\n",
    "          \"train:\", accuracy_score(y_train, y_pred_train),\n",
    "          \"test:\", accuracy_score(y_test, y_pred_test))"
   ]
  },
  {
   "cell_type": "markdown",
   "id": "b5f499ba-d00c-4dec-89ee-e6752db7b0fa",
   "metadata": {},
   "source": [
    "* zapisz do pliku"
   ]
  },
  {
   "cell_type": "code",
   "execution_count": 21,
   "id": "1656c49a-08f3-4d2b-b509-04d5be7870c2",
   "metadata": {},
   "outputs": [
    {
     "name": "stdout",
     "output_type": "stream",
     "text": [
      "[(0.9978021978021978, 0.6491228070175439), (0.9208791208791208, 0.7017543859649122), (1.0, 0.6228070175438597), (0.9648351648351648, 0.6842105263157895), (0.9956043956043956, 0.6666666666666666), (0.8, 0.7368421052631579), (0.8373626373626374, 0.7105263157894737)]\n"
     ]
    }
   ],
   "source": [
    "with open('acc_bag.pkl','wb') as f: pickle.dump(acc_bag, f)\n",
    "\n",
    "#sprawdzenie zawartosci pliku\n",
    "with open('acc_bag.pkl','rb') as f: print(pickle.load(f))"
   ]
  },
  {
   "cell_type": "code",
   "execution_count": 22,
   "id": "f8399af4-64de-400e-a008-55e3a375153b",
   "metadata": {},
   "outputs": [
    {
     "name": "stdout",
     "output_type": "stream",
     "text": [
      "[BaggingClassifier(base_estimator=DecisionTreeClassifier(), n_estimators=30), BaggingClassifier(base_estimator=DecisionTreeClassifier(), max_samples=0.5,\n",
      "                  n_estimators=30), BaggingClassifier(base_estimator=DecisionTreeClassifier(), bootstrap=False,\n",
      "                  n_estimators=30), BaggingClassifier(base_estimator=DecisionTreeClassifier(), bootstrap=False,\n",
      "                  max_samples=0.5, n_estimators=30), RandomForestClassifier(n_estimators=30), AdaBoostClassifier(n_estimators=30), GradientBoostingClassifier(n_estimators=30)]\n"
     ]
    }
   ],
   "source": [
    "with open('bag.pkl','wb') as f: pickle.dump(bag, f)\n",
    "\n",
    "#sprawdzenie zawartosci pliku\n",
    "with open('bag.pkl','rb') as f: print(pickle.load(f))"
   ]
  },
  {
   "cell_type": "markdown",
   "id": "ab871292-9fe3-4ad2-b953-c2351f7141d9",
   "metadata": {},
   "source": [
    "### 7. Sampling 2 cech bez powtórzeń (30 drzew) -> połowę instancji dla każdego z drzew z powtórzeniami."
   ]
  },
  {
   "cell_type": "code",
   "execution_count": 23,
   "id": "81b444c0-f74a-4ef4-9057-cd9a7c4ca5d5",
   "metadata": {},
   "outputs": [],
   "source": [
    "fea = BaggingClassifier(\n",
    "    DecisionTreeClassifier(), n_estimators = 30,\n",
    "    bootstrap = True, bootstrap_features = False,\n",
    "    max_samples = 0.5, max_features = 2)"
   ]
  },
  {
   "cell_type": "code",
   "execution_count": 24,
   "id": "5972b51a-8295-4e0e-8331-4a8a2a1aa748",
   "metadata": {},
   "outputs": [],
   "source": [
    "X_cancer_all = data_breast_cancer.data.copy()\n",
    "y_cancer_all = data_breast_cancer.target\n",
    "\n",
    "X_train, X_test, y_train, y_test = train_test_split(X_cancer_all, y_cancer_all, \n",
    "                                                    test_size=0.20, random_state=42)"
   ]
  },
  {
   "cell_type": "code",
   "execution_count": 25,
   "id": "7848fcf1-4d6a-4991-be70-d21c6706b0ef",
   "metadata": {},
   "outputs": [
    {
     "name": "stdout",
     "output_type": "stream",
     "text": [
      "BaggingClassifier - train: 0.9912087912087912 test: 0.9649122807017544\n"
     ]
    }
   ],
   "source": [
    "fea.fit(X_train, y_train)\n",
    "    \n",
    "y_pred_train = fea.predict(X_train)\n",
    "y_pred_test = fea.predict(X_test)\n",
    "    \n",
    "acc_fea = [accuracy_score(y_train, y_pred_train), accuracy_score(y_test, y_pred_test)]\n",
    "    \n",
    "print(fea.__class__.__name__, \"-\",\n",
    "      \"train:\", accuracy_score(y_train, y_pred_train),\n",
    "      \"test:\", accuracy_score(y_test, y_pred_test))"
   ]
  },
  {
   "cell_type": "markdown",
   "id": "2a5e4d42-aa04-4465-a8de-19b88a62ec01",
   "metadata": {},
   "source": [
    "* zapisz do pliku"
   ]
  },
  {
   "cell_type": "code",
   "execution_count": 26,
   "id": "0b83050e-b2af-42e3-b29d-58990ad733e2",
   "metadata": {},
   "outputs": [
    {
     "name": "stdout",
     "output_type": "stream",
     "text": [
      "[0.9912087912087912, 0.9649122807017544]\n"
     ]
    }
   ],
   "source": [
    "with open('acc_fea.pkl','wb') as f: pickle.dump(acc_fea, f)\n",
    "\n",
    "#sprawdzenie zawartosci pliku\n",
    "with open('acc_fea.pkl','rb') as f: print(pickle.load(f))"
   ]
  },
  {
   "cell_type": "code",
   "execution_count": 27,
   "id": "79647699-7d3b-46f1-b8c5-367ab66b294b",
   "metadata": {},
   "outputs": [
    {
     "name": "stdout",
     "output_type": "stream",
     "text": [
      "BaggingClassifier(base_estimator=DecisionTreeClassifier(), max_features=2,\n",
      "                  max_samples=0.5, n_estimators=30)\n"
     ]
    }
   ],
   "source": [
    "with open('fea.pkl','wb') as f: pickle.dump(fea, f)\n",
    "\n",
    "#sprawdzenie zawartosci pliku\n",
    "with open('fea.pkl','rb') as f: print(pickle.load(f))"
   ]
  },
  {
   "cell_type": "markdown",
   "id": "1a2797dc-d502-482a-81c4-962b659036af",
   "metadata": {},
   "source": [
    "### 9. które cechy dają najwięszą dokładność"
   ]
  },
  {
   "cell_type": "code",
   "execution_count": 28,
   "id": "128310ed-2b43-4f7d-b7c0-b60b3a535717",
   "metadata": {},
   "outputs": [],
   "source": [
    "train_acc = []\n",
    "test_acc = []\n",
    "features = []\n",
    "\n",
    "for estimator, est_features in zip(fea.estimators_, fea.estimators_features_):\n",
    "    \n",
    "    X_cancer = data_breast_cancer.data.iloc[:, est_features].copy()\n",
    "    y_cancer = data_breast_cancer.target\n",
    "    \n",
    "    X_train, X_test, y_train, y_test = train_test_split(X_cancer, y_cancer, \n",
    "                                                    test_size=0.20, random_state=42)\n",
    "    \n",
    "    y_pred_train = estimator.predict(X_train)\n",
    "    y_pred_test = estimator.predict(X_test)\n",
    "    \n",
    "    train_acc.append(accuracy_score(y_train, y_pred_train))\n",
    "    test_acc.append(accuracy_score(y_test, y_pred_test))\n",
    "    features.append([data_breast_cancer.data.columns[est_features[0]],data_breast_cancer.data.columns[est_features[1]]])"
   ]
  },
  {
   "cell_type": "code",
   "execution_count": 29,
   "id": "a3f9c555-52dd-4730-bb15-547ffeb0fd13",
   "metadata": {},
   "outputs": [
    {
     "name": "stdout",
     "output_type": "stream",
     "text": [
      "    train_acc  test_acc                                     features\n",
      "0    0.828571  0.675439     [concave points error, mean compactness]\n",
      "1    0.898901  0.859649    [worst fractal dimension, mean concavity]\n",
      "2    0.791209  0.745614    [concave points error, compactness error]\n",
      "3    0.892308  0.842105                     [mean area, mean radius]\n",
      "4    0.791209  0.605263       [mean texture, mean fractal dimension]\n",
      "5    0.929670  0.921053                  [mean radius, worst radius]\n",
      "6    0.907692  0.921053                  [mean texture, mean radius]\n",
      "7    0.841758  0.771930               [symmetry error, radius error]\n",
      "8    0.901099  0.894737                 [radius error, worst radius]\n",
      "9    0.914286  0.894737               [mean texture, mean perimeter]\n",
      "10   0.780220  0.631579   [mean smoothness, worst fractal dimension]\n",
      "11   0.824176  0.657895                [radius error, texture error]\n",
      "12   0.918681  0.921053             [worst radius, smoothness error]\n",
      "13   0.800000  0.736842        [concave points error, texture error]\n",
      "14   0.874725  0.807018   [perimeter error, worst fractal dimension]\n",
      "15   0.775824  0.692982   [mean fractal dimension, worst smoothness]\n",
      "16   0.843956  0.745614    [mean fractal dimension, perimeter error]\n",
      "17   0.839560  0.763158          [concavity error, mean compactness]\n",
      "18   0.901099  0.789474    [mean perimeter, fractal dimension error]\n",
      "19   0.898901  0.877193          [mean perimeter, compactness error]\n",
      "20   0.769231  0.649123            [mean texture, compactness error]\n",
      "21   0.912088  0.877193              [mean perimeter, mean symmetry]\n",
      "22   0.907692  0.824561              [worst perimeter, worst radius]\n",
      "23   0.925275  0.938596                  [worst area, texture error]\n",
      "24   0.775824  0.622807  [worst fractal dimension, smoothness error]\n",
      "25   0.940659  0.938596                  [worst area, mean symmetry]\n",
      "26   0.800000  0.736842         [concave points error, mean texture]\n",
      "27   0.920879  0.912281                 [symmetry error, worst area]\n",
      "28   0.859341  0.780702          [worst smoothness, perimeter error]\n",
      "29   0.927473  0.929825             [mean area, mean concave points]\n"
     ]
    }
   ],
   "source": [
    "data = {'train_acc': train_acc, 'test_acc': test_acc, 'features': features}  \n",
    "acc_fea_rank = pd.DataFrame(data)  \n",
    "print(acc_fea_rank)  "
   ]
  },
  {
   "cell_type": "code",
   "execution_count": 30,
   "id": "e818dcb6-41c5-4d9f-a8d6-b0ec5695602c",
   "metadata": {},
   "outputs": [
    {
     "name": "stdout",
     "output_type": "stream",
     "text": [
      "    train_acc  test_acc                                     features\n",
      "25   0.940659  0.938596                  [worst area, mean symmetry]\n",
      "5    0.929670  0.921053                  [mean radius, worst radius]\n",
      "29   0.927473  0.929825             [mean area, mean concave points]\n",
      "23   0.925275  0.938596                  [worst area, texture error]\n",
      "27   0.920879  0.912281                 [symmetry error, worst area]\n",
      "12   0.918681  0.921053             [worst radius, smoothness error]\n",
      "9    0.914286  0.894737               [mean texture, mean perimeter]\n",
      "21   0.912088  0.877193              [mean perimeter, mean symmetry]\n",
      "6    0.907692  0.921053                  [mean texture, mean radius]\n",
      "22   0.907692  0.824561              [worst perimeter, worst radius]\n",
      "8    0.901099  0.894737                 [radius error, worst radius]\n",
      "18   0.901099  0.789474    [mean perimeter, fractal dimension error]\n",
      "19   0.898901  0.877193          [mean perimeter, compactness error]\n",
      "1    0.898901  0.859649    [worst fractal dimension, mean concavity]\n",
      "3    0.892308  0.842105                     [mean area, mean radius]\n",
      "14   0.874725  0.807018   [perimeter error, worst fractal dimension]\n",
      "28   0.859341  0.780702          [worst smoothness, perimeter error]\n",
      "16   0.843956  0.745614    [mean fractal dimension, perimeter error]\n",
      "7    0.841758  0.771930               [symmetry error, radius error]\n",
      "17   0.839560  0.763158          [concavity error, mean compactness]\n",
      "0    0.828571  0.675439     [concave points error, mean compactness]\n",
      "11   0.824176  0.657895                [radius error, texture error]\n",
      "13   0.800000  0.736842        [concave points error, texture error]\n",
      "26   0.800000  0.736842         [concave points error, mean texture]\n",
      "2    0.791209  0.745614    [concave points error, compactness error]\n",
      "4    0.791209  0.605263       [mean texture, mean fractal dimension]\n",
      "10   0.780220  0.631579   [mean smoothness, worst fractal dimension]\n",
      "15   0.775824  0.692982   [mean fractal dimension, worst smoothness]\n",
      "24   0.775824  0.622807  [worst fractal dimension, smoothness error]\n",
      "20   0.769231  0.649123            [mean texture, compactness error]\n"
     ]
    }
   ],
   "source": [
    "#posortuj\n",
    "acc_fea_rank = acc_fea_rank.sort_values(by=['train_acc', 'test_acc'], ascending=False)\n",
    "print(acc_fea_rank)"
   ]
  },
  {
   "cell_type": "markdown",
   "id": "9f3f7bed-96e9-4599-b522-82087dcf1cc9",
   "metadata": {},
   "source": [
    "* zapisz plik"
   ]
  },
  {
   "cell_type": "code",
   "execution_count": 31,
   "id": "24594fca-e2b8-448c-b07f-d7bf7d6909b7",
   "metadata": {},
   "outputs": [
    {
     "name": "stdout",
     "output_type": "stream",
     "text": [
      "    train_acc  test_acc                                     features\n",
      "25   0.940659  0.938596                  [worst area, mean symmetry]\n",
      "5    0.929670  0.921053                  [mean radius, worst radius]\n",
      "29   0.927473  0.929825             [mean area, mean concave points]\n",
      "23   0.925275  0.938596                  [worst area, texture error]\n",
      "27   0.920879  0.912281                 [symmetry error, worst area]\n",
      "12   0.918681  0.921053             [worst radius, smoothness error]\n",
      "9    0.914286  0.894737               [mean texture, mean perimeter]\n",
      "21   0.912088  0.877193              [mean perimeter, mean symmetry]\n",
      "6    0.907692  0.921053                  [mean texture, mean radius]\n",
      "22   0.907692  0.824561              [worst perimeter, worst radius]\n",
      "8    0.901099  0.894737                 [radius error, worst radius]\n",
      "18   0.901099  0.789474    [mean perimeter, fractal dimension error]\n",
      "19   0.898901  0.877193          [mean perimeter, compactness error]\n",
      "1    0.898901  0.859649    [worst fractal dimension, mean concavity]\n",
      "3    0.892308  0.842105                     [mean area, mean radius]\n",
      "14   0.874725  0.807018   [perimeter error, worst fractal dimension]\n",
      "28   0.859341  0.780702          [worst smoothness, perimeter error]\n",
      "16   0.843956  0.745614    [mean fractal dimension, perimeter error]\n",
      "7    0.841758  0.771930               [symmetry error, radius error]\n",
      "17   0.839560  0.763158          [concavity error, mean compactness]\n",
      "0    0.828571  0.675439     [concave points error, mean compactness]\n",
      "11   0.824176  0.657895                [radius error, texture error]\n",
      "13   0.800000  0.736842        [concave points error, texture error]\n",
      "26   0.800000  0.736842         [concave points error, mean texture]\n",
      "2    0.791209  0.745614    [concave points error, compactness error]\n",
      "4    0.791209  0.605263       [mean texture, mean fractal dimension]\n",
      "10   0.780220  0.631579   [mean smoothness, worst fractal dimension]\n",
      "15   0.775824  0.692982   [mean fractal dimension, worst smoothness]\n",
      "24   0.775824  0.622807  [worst fractal dimension, smoothness error]\n",
      "20   0.769231  0.649123            [mean texture, compactness error]\n"
     ]
    }
   ],
   "source": [
    "with open('acc_fea_rank.pkl','wb') as f: pickle.dump(acc_fea_rank, f)\n",
    "\n",
    "#sprawdzenie zawartosci pliku\n",
    "with open('acc_fea_rank.pkl','rb') as f: print(pickle.load(f))"
   ]
  }
 ],
 "metadata": {
  "kernelspec": {
   "display_name": "Python 3 (ipykernel)",
   "language": "python",
   "name": "python3"
  },
  "language_info": {
   "codemirror_mode": {
    "name": "ipython",
    "version": 3
   },
   "file_extension": ".py",
   "mimetype": "text/x-python",
   "name": "python",
   "nbconvert_exporter": "python",
   "pygments_lexer": "ipython3",
   "version": "3.9.12"
  }
 },
 "nbformat": 4,
 "nbformat_minor": 5
}
