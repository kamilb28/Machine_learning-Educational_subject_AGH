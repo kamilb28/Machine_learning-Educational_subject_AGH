{
 "cells": [
  {
   "cell_type": "markdown",
   "id": "4e12d4a7-9253-42d5-a1d3-fd7ed3190526",
   "metadata": {},
   "source": [
    "# Lab 5: Drzewa Decyzyjne"
   ]
  },
  {
   "cell_type": "markdown",
   "id": "7ce0978d-b9ef-4107-b2b5-0a082b991337",
   "metadata": {},
   "source": [
    "### Przygotowanie danych"
   ]
  },
  {
   "cell_type": "code",
   "execution_count": 1,
   "id": "898fbeb4-0b58-45bb-a2d3-e636dacd186b",
   "metadata": {},
   "outputs": [],
   "source": [
    "from sklearn import datasets\n",
    "data_breast_cancer = datasets.load_breast_cancer(as_frame=True)\n",
    "#print(data_breast_cancer['DESCR'])"
   ]
  },
  {
   "cell_type": "code",
   "execution_count": 2,
   "id": "e94d8170-1cfe-415d-8ec4-cdf1ac78eced",
   "metadata": {},
   "outputs": [
    {
     "data": {
      "text/plain": [
       "<AxesSubplot:xlabel='x', ylabel='y'>"
      ]
     },
     "execution_count": 2,
     "metadata": {},
     "output_type": "execute_result"
    },
    {
     "data": {
      "image/png": "[encoded data removed]",
      "text/plain": [
       "<Figure size 432x288 with 1 Axes>"
      ]
     },
     "metadata": {
      "needs_background": "light"
     },
     "output_type": "display_data"
    }
   ],
   "source": [
    "import numpy as np\n",
    "import pandas as pd\n",
    "size = 300\n",
    "X = np.random.rand(size)*5-2.5\n",
    "w4, w3, w2, w1, w0 = 1, 2, 1, -4, 2\n",
    "y = w4*(X**4) + w3*(X**3) + w2*(X**2) + w1*X + w0 + np.random.randn(size)*8-4\n",
    "df = pd.DataFrame({'x': X, 'y': y})\n",
    "df.plot.scatter(x='x',y='y')"
   ]
  },
  {
   "cell_type": "markdown",
   "id": "ee431c52-fc52-4143-98a6-a5bb71c6076a",
   "metadata": {},
   "source": [
    "### Klasyfikacja"
   ]
  },
  {
   "cell_type": "code",
   "execution_count": 3,
   "id": "ada9295b-3843-409f-9d16-5db860adfd4b",
   "metadata": {},
   "outputs": [],
   "source": [
    "from sklearn.tree import DecisionTreeClassifier\n",
    "\n",
    "X_cancer = data_breast_cancer.data[[\"mean texture\", \"mean symmetry\"]].copy()\n",
    "y_cancer = data_breast_cancer.target"
   ]
  },
  {
   "cell_type": "code",
   "execution_count": 4,
   "id": "b0da260c-b0db-4780-985f-005a80e501fc",
   "metadata": {},
   "outputs": [],
   "source": [
    "from sklearn.model_selection import train_test_split\n",
    "X_train_cancer, X_test_cancer, y_train_cancer, y_test_cancer = train_test_split(X_cancer, y_cancer,\n",
    "                                                                                test_size=0.20, random_state=42)"
   ]
  },
  {
   "cell_type": "markdown",
   "id": "e15e5f8b-38db-4296-bd25-8ac1bc5491f0",
   "metadata": {},
   "source": [
    "* Rozne glebokosci drzewa:"
   ]
  },
  {
   "cell_type": "code",
   "execution_count": 5,
   "id": "450ffd78-0698-4a29-876b-002e3705eb67",
   "metadata": {},
   "outputs": [],
   "source": [
    "tree_clf_d1 = DecisionTreeClassifier(max_depth=1, random_state=42)\n",
    "tree_clf_d2 = DecisionTreeClassifier(max_depth=2, random_state=42)\n",
    "tree_clf_d3 = DecisionTreeClassifier(max_depth=3, random_state=42)"
   ]
  },
  {
   "cell_type": "code",
   "execution_count": 6,
   "id": "1102560a-9590-445d-bda3-36310d5ad207",
   "metadata": {},
   "outputs": [
    {
     "data": {
      "text/plain": [
       "DecisionTreeClassifier(max_depth=1, random_state=42)"
      ]
     },
     "execution_count": 6,
     "metadata": {},
     "output_type": "execute_result"
    }
   ],
   "source": [
    "tree_clf_d1.fit(X_train_cancer, y_train_cancer)"
   ]
  },
  {
   "cell_type": "code",
   "execution_count": 7,
   "id": "087799a3-4a4a-4e45-9eab-1a11da6c69f2",
   "metadata": {},
   "outputs": [
    {
     "data": {
      "text/plain": [
       "DecisionTreeClassifier(max_depth=2, random_state=42)"
      ]
     },
     "execution_count": 7,
     "metadata": {},
     "output_type": "execute_result"
    }
   ],
   "source": [
    "tree_clf_d2.fit(X_train_cancer, y_train_cancer) "
   ]
  },
  {
   "cell_type": "code",
   "execution_count": 8,
   "id": "929aa5d9-d553-498b-b993-f785353d4f2f",
   "metadata": {},
   "outputs": [
    {
     "data": {
      "text/plain": [
       "DecisionTreeClassifier(max_depth=3, random_state=42)"
      ]
     },
     "execution_count": 8,
     "metadata": {},
     "output_type": "execute_result"
    }
   ],
   "source": [
    "tree_clf_d3.fit(X_train_cancer, y_train_cancer)"
   ]
  },
  {
   "cell_type": "markdown",
   "id": "d0f8768c-36a5-48cf-8c74-d82463a1d101",
   "metadata": {},
   "source": [
    "* Generowanie drzewa decyzyjnego:"
   ]
  },
  {
   "cell_type": "code",
   "execution_count": 9,
   "id": "ee4aac07-d21e-48e7-b41f-0ca7c541f3e1",
   "metadata": {},
   "outputs": [],
   "source": [
    "from sklearn.tree import export_graphviz\n",
    "\n",
    "tree_clf = [tree_clf_d1, tree_clf_d2, tree_clf_d3]\n",
    "file = [\"cancer_tree_train1.dot\", \"cancer_tree_train2.dot\", \"cancer_tree_train3.dot\"]"
   ]
  },
  {
   "cell_type": "code",
   "execution_count": 10,
   "id": "d22aaaf6-69a6-4e1a-9b74-68d608f7d0df",
   "metadata": {},
   "outputs": [
    {
     "name": "stdout",
     "output_type": "stream",
     "text": [
      "cancer_tree_train1.dot\n",
      "cancer_tree_train2.dot\n",
      "cancer_tree_train3.dot\n"
     ]
    }
   ],
   "source": [
    "for index in range(len(tree_clf)):\n",
    "    export_graphviz(\n",
    "        tree_clf[index],\n",
    "        out_file=file[index],\n",
    "        feature_names=data_breast_cancer.feature_names[[1,8]],\n",
    "        class_names=[str(num)+\", \"+name\n",
    "                     for num,name in\n",
    "                     zip(set(y_cancer),\n",
    "                         data_breast_cancer.target_names)],\n",
    "        rounded=True,\n",
    "        filled=True\n",
    "    ) \n",
    "    print(file[index])"
   ]
  },
  {
   "cell_type": "markdown",
   "id": "5deab8dd-7016-4bd8-92ec-6ea9d3dc2a9a",
   "metadata": {},
   "source": [
    "* zapisywanie obrazka png"
   ]
  },
  {
   "cell_type": "code",
   "execution_count": 11,
   "id": "a6ea643a-c25c-4979-bc02-012b6050a9a2",
   "metadata": {},
   "outputs": [
    {
     "ename": "ModuleNotFoundError",
     "evalue": "No module named 'graphviz'",
     "output_type": "error",
     "traceback": [
      "\u001b[0;31m---------------------------------------------------------------------------\u001b[0m",
      "\u001b[0;31mModuleNotFoundError\u001b[0m                       Traceback (most recent call last)",
      "\u001b[0;32m<ipython-input-11-d7b98eb2c603>\u001b[0m in \u001b[0;36m<module>\u001b[0;34m\u001b[0m\n\u001b[0;32m----> 1\u001b[0;31m \u001b[0;32mimport\u001b[0m \u001b[0mgraphviz\u001b[0m\u001b[0;34m\u001b[0m\u001b[0;34m\u001b[0m\u001b[0m\n\u001b[0m\u001b[1;32m      2\u001b[0m \u001b[0;32mfrom\u001b[0m \u001b[0msklearn\u001b[0m\u001b[0;34m.\u001b[0m\u001b[0mmetrics\u001b[0m \u001b[0;32mimport\u001b[0m \u001b[0mf1_score\u001b[0m\u001b[0;34m\u001b[0m\u001b[0;34m\u001b[0m\u001b[0m\n",
      "\u001b[0;31mModuleNotFoundError\u001b[0m: No module named 'graphviz'"
     ]
    }
   ],
   "source": [
    "import graphviz\n",
    "from sklearn.metrics import f1_score"
   ]
  },
  {
   "cell_type": "markdown",
   "id": "0b1b0ee3-a4b2-46ba-b8ba-b6a49f560c0b",
   "metadata": {},
   "source": [
    "### Drzewa decyzyjne i wartosci f1"
   ]
  },
  {
   "cell_type": "markdown",
   "id": "ed0527e4-9a56-4ae7-a368-e4e3b400f15f",
   "metadata": {},
   "source": [
    "glebokosc = 1"
   ]
  },
  {
   "cell_type": "code",
   "execution_count": null,
   "id": "1308658d-1e8d-4ac1-9c9b-0eb18a49daf9",
   "metadata": {},
   "outputs": [],
   "source": [
    "graph = graphviz.Source.from_file(\"cancer_tree_train1.dot\")\n",
    "graph"
   ]
  },
  {
   "cell_type": "code",
   "execution_count": null,
   "id": "efb11595-f80b-4a88-872e-e2b3dc4f109a",
   "metadata": {},
   "outputs": [],
   "source": [
    "print(f1_score(y_train_cancer, tree_clf_d1.predict(X_train_cancer)))\n",
    "print(f1_score(y_test_cancer, tree_clf_d1.predict(X_test_cancer)))"
   ]
  },
  {
   "cell_type": "markdown",
   "id": "b2ae9784-603f-4bd2-a061-1fa6e2b77a2e",
   "metadata": {},
   "source": [
    "glebokosc = 2"
   ]
  },
  {
   "cell_type": "code",
   "execution_count": null,
   "id": "d0d29fbc-a72c-4e67-ac6b-376198871162",
   "metadata": {},
   "outputs": [],
   "source": [
    "graph = graphviz.Source.from_file(\"cancer_tree_train2.dot\")\n",
    "graph"
   ]
  },
  {
   "cell_type": "code",
   "execution_count": null,
   "id": "57e0a13c-ddbd-448d-8d8c-310c84e0f387",
   "metadata": {},
   "outputs": [],
   "source": [
    "print(f1_score(y_train_cancer, tree_clf_d2.predict(X_train_cancer)))\n",
    "print(f1_score(y_test_cancer, tree_clf_d2.predict(X_test_cancer)))"
   ]
  },
  {
   "cell_type": "markdown",
   "id": "34b5c656-12f2-4907-ad8b-21bf44584475",
   "metadata": {},
   "source": [
    "glebokosc = 3"
   ]
  },
  {
   "cell_type": "code",
   "execution_count": null,
   "id": "1fce4d95-2b58-4f7d-ba79-18b322195411",
   "metadata": {},
   "outputs": [],
   "source": [
    "graph = graphviz.Source.from_file(\"cancer_tree_train3.dot\")\n",
    "graph"
   ]
  },
  {
   "cell_type": "code",
   "execution_count": null,
   "id": "22c7081e-bc59-4850-b121-d9ceba1ab2e1",
   "metadata": {},
   "outputs": [],
   "source": [
    "print(f1_score(y_train_cancer, tree_clf_d3.predict(X_train_cancer)))\n",
    "print(f1_score(y_test_cancer, tree_clf_d3.predict(X_test_cancer)))"
   ]
  },
  {
   "cell_type": "code",
   "execution_count": null,
   "id": "86a6f3d8-68e6-4388-b2aa-b28f5b168d3e",
   "metadata": {},
   "outputs": [],
   "source": [
    "# zapiswyanie obrazka:\n",
    "\n",
    "print(graphviz.render('dot', 'png', \"bc\"))"
   ]
  },
  {
   "cell_type": "code",
   "execution_count": null,
   "id": "833d9a77-88aa-4acf-9ac6-7a17ce4a17bb",
   "metadata": {},
   "outputs": [],
   "source": []
  }
 ],
 "metadata": {
  "kernelspec": {
   "display_name": "Python 3 (ipykernel)",
   "language": "python",
   "name": "python3"
  },
  "language_info": {
   "codemirror_mode": {
    "name": "ipython",
    "version": 3
   },
   "file_extension": ".py",
   "mimetype": "text/x-python",
   "name": "python",
   "nbconvert_exporter": "python",
   "pygments_lexer": "ipython3",
   "version": "3.9.12"
  }
 },
 "nbformat": 4,
 "nbformat_minor": 5
}
