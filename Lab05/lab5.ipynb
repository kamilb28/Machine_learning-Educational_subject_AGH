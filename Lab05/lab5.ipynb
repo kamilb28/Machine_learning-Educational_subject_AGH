{
 "cells": [
  {
   "cell_type": "markdown",
   "id": "4e12d4a7-9253-42d5-a1d3-fd7ed3190526",
   "metadata": {
    "id": "4e12d4a7-9253-42d5-a1d3-fd7ed3190526"
   },
   "source": [
    "# Lab 5: Drzewa Decyzyjne"
   ]
  },
  {
   "cell_type": "markdown",
   "id": "7ce0978d-b9ef-4107-b2b5-0a082b991337",
   "metadata": {
    "id": "7ce0978d-b9ef-4107-b2b5-0a082b991337"
   },
   "source": [
    "### Przygotowanie danych"
   ]
  },
  {
   "cell_type": "code",
   "execution_count": 194,
   "id": "898fbeb4-0b58-45bb-a2d3-e636dacd186b",
   "metadata": {
    "id": "898fbeb4-0b58-45bb-a2d3-e636dacd186b"
   },
   "outputs": [],
   "source": [
    "from sklearn import datasets\n",
    "data_breast_cancer = datasets.load_breast_cancer(as_frame=True)\n",
    "#print(data_breast_cancer['DESCR'])"
   ]
  },
  {
   "cell_type": "code",
   "execution_count": 195,
   "id": "e94d8170-1cfe-415d-8ec4-cdf1ac78eced",
   "metadata": {
    "colab": {
     "base_uri": "https://localhost:8080/",
     "height": 296
    },
    "id": "e94d8170-1cfe-415d-8ec4-cdf1ac78eced",
    "outputId": "fdfa8ec4-2855-406a-9afb-4d2a359e983b"
   },
   "outputs": [
    {
     "data": {
      "text/plain": [
       "<matplotlib.axes._subplots.AxesSubplot at 0x7f14395512d0>"
      ]
     },
     "execution_count": 195,
     "metadata": {},
     "output_type": "execute_result"
    },
    {
     "data": {
      "image/png": "[encoded data removed]",
      "text/plain": [
       "<Figure size 432x288 with 1 Axes>"
      ]
     },
     "metadata": {
      "needs_background": "light"
     },
     "output_type": "display_data"
    }
   ],
   "source": [
    "import numpy as np\n",
    "import pandas as pd\n",
    "size = 300\n",
    "X = np.random.rand(size)*5-2.5\n",
    "w4, w3, w2, w1, w0 = 1, 2, 1, -4, 2\n",
    "y = w4*(X**4) + w3*(X**3) + w2*(X**2) + w1*X + w0 + np.random.randn(size)*8-4\n",
    "df = pd.DataFrame({'x': X, 'y': y})\n",
    "df.plot.scatter(x='x',y='y')"
   ]
  },
  {
   "cell_type": "markdown",
   "id": "ee431c52-fc52-4143-98a6-a5bb71c6076a",
   "metadata": {
    "id": "ee431c52-fc52-4143-98a6-a5bb71c6076a"
   },
   "source": [
    "### Klasyfikacja"
   ]
  },
  {
   "cell_type": "code",
   "execution_count": 196,
   "id": "ada9295b-3843-409f-9d16-5db860adfd4b",
   "metadata": {
    "id": "ada9295b-3843-409f-9d16-5db860adfd4b"
   },
   "outputs": [],
   "source": [
    "from sklearn.tree import DecisionTreeClassifier\n",
    "\n",
    "X_cancer = data_breast_cancer.data[[\"mean texture\", \"mean symmetry\"]].copy()\n",
    "y_cancer = data_breast_cancer.target"
   ]
  },
  {
   "cell_type": "code",
   "execution_count": 197,
   "id": "b0da260c-b0db-4780-985f-005a80e501fc",
   "metadata": {
    "id": "b0da260c-b0db-4780-985f-005a80e501fc"
   },
   "outputs": [],
   "source": [
    "from sklearn.model_selection import train_test_split\n",
    "X_train_cancer, X_test_cancer, y_train_cancer, y_test_cancer = train_test_split(X_cancer, y_cancer,\n",
    "                                                                                test_size=0.20, random_state=42)"
   ]
  },
  {
   "cell_type": "markdown",
   "id": "e15e5f8b-38db-4296-bd25-8ac1bc5491f0",
   "metadata": {
    "id": "e15e5f8b-38db-4296-bd25-8ac1bc5491f0"
   },
   "source": [
    "* Rozne glebokosci drzewa:"
   ]
  },
  {
   "cell_type": "code",
   "execution_count": 198,
   "id": "450ffd78-0698-4a29-876b-002e3705eb67",
   "metadata": {
    "id": "450ffd78-0698-4a29-876b-002e3705eb67"
   },
   "outputs": [],
   "source": [
    "tree_clf_d1 = DecisionTreeClassifier(max_depth=1, random_state=42)\n",
    "tree_clf_d2 = DecisionTreeClassifier(max_depth=2, random_state=42)\n",
    "tree_clf_d3 = DecisionTreeClassifier(max_depth=3, random_state=42)\n",
    "tree_clf_d4 = DecisionTreeClassifier(max_depth=4, random_state=42)\n",
    "tree_clf_d5 = DecisionTreeClassifier(max_depth=5, random_state=42)\n",
    "tree_clf_d6 = DecisionTreeClassifier(max_depth=6, random_state=42)"
   ]
  },
  {
   "cell_type": "code",
   "execution_count": 199,
   "id": "1102560a-9590-445d-bda3-36310d5ad207",
   "metadata": {
    "colab": {
     "base_uri": "https://localhost:8080/"
    },
    "id": "1102560a-9590-445d-bda3-36310d5ad207",
    "outputId": "597a47ab-d3ca-4720-8451-bf24cab9ee0c"
   },
   "outputs": [
    {
     "data": {
      "text/plain": [
       "DecisionTreeClassifier(max_depth=1, random_state=42)"
      ]
     },
     "execution_count": 199,
     "metadata": {},
     "output_type": "execute_result"
    }
   ],
   "source": [
    "tree_clf_d1.fit(X_train_cancer, y_train_cancer)"
   ]
  },
  {
   "cell_type": "code",
   "execution_count": 200,
   "id": "087799a3-4a4a-4e45-9eab-1a11da6c69f2",
   "metadata": {
    "colab": {
     "base_uri": "https://localhost:8080/"
    },
    "id": "087799a3-4a4a-4e45-9eab-1a11da6c69f2",
    "outputId": "e6bc1e8a-b817-447c-8552-d7ca2ea87caa"
   },
   "outputs": [
    {
     "data": {
      "text/plain": [
       "DecisionTreeClassifier(max_depth=2, random_state=42)"
      ]
     },
     "execution_count": 200,
     "metadata": {},
     "output_type": "execute_result"
    }
   ],
   "source": [
    "tree_clf_d2.fit(X_train_cancer, y_train_cancer) "
   ]
  },
  {
   "cell_type": "code",
   "execution_count": 201,
   "id": "929aa5d9-d553-498b-b993-f785353d4f2f",
   "metadata": {
    "colab": {
     "base_uri": "https://localhost:8080/"
    },
    "id": "929aa5d9-d553-498b-b993-f785353d4f2f",
    "outputId": "88bc31ba-e190-4b63-85e5-1ec25c4d1359"
   },
   "outputs": [
    {
     "data": {
      "text/plain": [
       "DecisionTreeClassifier(max_depth=3, random_state=42)"
      ]
     },
     "execution_count": 201,
     "metadata": {},
     "output_type": "execute_result"
    }
   ],
   "source": [
    "tree_clf_d3.fit(X_train_cancer, y_train_cancer)"
   ]
  },
  {
   "cell_type": "code",
   "execution_count": 202,
   "id": "NoxUcOkAyNRX",
   "metadata": {
    "colab": {
     "base_uri": "https://localhost:8080/"
    },
    "id": "NoxUcOkAyNRX",
    "outputId": "ff2c7eb0-2b32-4f5f-da07-a3f958981217"
   },
   "outputs": [
    {
     "data": {
      "text/plain": [
       "DecisionTreeClassifier(max_depth=4, random_state=42)"
      ]
     },
     "execution_count": 202,
     "metadata": {},
     "output_type": "execute_result"
    }
   ],
   "source": [
    "tree_clf_d4.fit(X_train_cancer, y_train_cancer)"
   ]
  },
  {
   "cell_type": "code",
   "execution_count": 203,
   "id": "a2sCCOYjyNY9",
   "metadata": {
    "colab": {
     "base_uri": "https://localhost:8080/"
    },
    "id": "a2sCCOYjyNY9",
    "outputId": "7b1518ac-b812-4959-fd55-963dfc24113c"
   },
   "outputs": [
    {
     "data": {
      "text/plain": [
       "DecisionTreeClassifier(max_depth=5, random_state=42)"
      ]
     },
     "execution_count": 203,
     "metadata": {},
     "output_type": "execute_result"
    }
   ],
   "source": [
    "tree_clf_d5.fit(X_train_cancer, y_train_cancer)"
   ]
  },
  {
   "cell_type": "code",
   "execution_count": 204,
   "id": "6KJmXna9yNfF",
   "metadata": {
    "colab": {
     "base_uri": "https://localhost:8080/"
    },
    "id": "6KJmXna9yNfF",
    "outputId": "3ae7c635-37bf-4a90-d3d5-64e8843a64bc"
   },
   "outputs": [
    {
     "data": {
      "text/plain": [
       "DecisionTreeClassifier(max_depth=6, random_state=42)"
      ]
     },
     "execution_count": 204,
     "metadata": {},
     "output_type": "execute_result"
    }
   ],
   "source": [
    "tree_clf_d6.fit(X_train_cancer, y_train_cancer)"
   ]
  },
  {
   "cell_type": "markdown",
   "id": "d0f8768c-36a5-48cf-8c74-d82463a1d101",
   "metadata": {
    "id": "d0f8768c-36a5-48cf-8c74-d82463a1d101"
   },
   "source": [
    "* Generowanie drzewa decyzyjnego:"
   ]
  },
  {
   "cell_type": "code",
   "execution_count": 205,
   "id": "ee4aac07-d21e-48e7-b41f-0ca7c541f3e1",
   "metadata": {
    "colab": {
     "base_uri": "https://localhost:8080/",
     "height": 54
    },
    "id": "ee4aac07-d21e-48e7-b41f-0ca7c541f3e1",
    "outputId": "61dfe1fc-ad88-4807-f251-a37944194896"
   },
   "outputs": [
    {
     "data": {
      "application/vnd.google.colaboratory.intrinsic+json": {
       "type": "string"
      },
      "text/plain": [
       "'\\ntree_clf = [tree_clf_d1, tree_clf_d2, tree_clf_d3]\\nfile = [\"cancer_tree_train1.dot\", \"cancer_tree_train2.dot\", \"cancer_tree_train3.dot\"]\\n'"
      ]
     },
     "execution_count": 205,
     "metadata": {},
     "output_type": "execute_result"
    }
   ],
   "source": [
    "from sklearn.tree import export_graphviz\n",
    "\n",
    "\"\"\"\n",
    "tree_clf = [tree_clf_d1, tree_clf_d2, tree_clf_d3]\n",
    "file = [\"cancer_tree_train1.dot\", \"cancer_tree_train2.dot\", \"cancer_tree_train3.dot\"]\n",
    "\"\"\""
   ]
  },
  {
   "cell_type": "code",
   "execution_count": 206,
   "id": "d22aaaf6-69a6-4e1a-9b74-68d608f7d0df",
   "metadata": {
    "colab": {
     "base_uri": "https://localhost:8080/",
     "height": 122
    },
    "id": "d22aaaf6-69a6-4e1a-9b74-68d608f7d0df",
    "outputId": "1c425ed7-dc9f-4c7e-f513-68abb97ec91f"
   },
   "outputs": [
    {
     "data": {
      "application/vnd.google.colaboratory.intrinsic+json": {
       "type": "string"
      },
      "text/plain": [
       "'\\nfor index in range(len(tree_clf)):\\n    export_graphviz(\\n        tree_clf[index],\\n        out_file=file[index],\\n        feature_names=data_breast_cancer.feature_names[[1,8]],\\n        class_names=[str(num)+\", \"+name\\n                     for num,name in\\n                     zip(set(y_cancer),\\n                         data_breast_cancer.target_names)],\\n        rounded=True,\\n        filled=True\\n    ) \\n    print(file[index])\\n'"
      ]
     },
     "execution_count": 206,
     "metadata": {},
     "output_type": "execute_result"
    }
   ],
   "source": [
    "\"\"\"\n",
    "for index in range(len(tree_clf)):\n",
    "    export_graphviz(\n",
    "        tree_clf[index],\n",
    "        out_file=file[index],\n",
    "        feature_names=data_breast_cancer.feature_names[[1,8]],\n",
    "        class_names=[str(num)+\", \"+name\n",
    "                     for num,name in\n",
    "                     zip(set(y_cancer),\n",
    "                         data_breast_cancer.target_names)],\n",
    "        rounded=True,\n",
    "        filled=True\n",
    "    ) \n",
    "    print(file[index])\n",
    "\"\"\""
   ]
  },
  {
   "cell_type": "code",
   "execution_count": 207,
   "id": "a6ea643a-c25c-4979-bc02-012b6050a9a2",
   "metadata": {
    "id": "a6ea643a-c25c-4979-bc02-012b6050a9a2"
   },
   "outputs": [],
   "source": [
    "import graphviz\n",
    "from sklearn.metrics import f1_score"
   ]
  },
  {
   "cell_type": "markdown",
   "id": "0b1b0ee3-a4b2-46ba-b8ba-b6a49f560c0b",
   "metadata": {
    "id": "0b1b0ee3-a4b2-46ba-b8ba-b6a49f560c0b"
   },
   "source": [
    "### Drzewa decyzyjne i wartosci f1"
   ]
  },
  {
   "cell_type": "markdown",
   "id": "ed0527e4-9a56-4ae7-a368-e4e3b400f15f",
   "metadata": {
    "id": "ed0527e4-9a56-4ae7-a368-e4e3b400f15f"
   },
   "source": [
    "glebokosc = 1"
   ]
  },
  {
   "cell_type": "code",
   "execution_count": 208,
   "id": "efb11595-f80b-4a88-872e-e2b3dc4f109a",
   "metadata": {
    "colab": {
     "base_uri": "https://localhost:8080/"
    },
    "id": "efb11595-f80b-4a88-872e-e2b3dc4f109a",
    "outputId": "9ab1a586-2f09-4d87-9154-b6ade195b635"
   },
   "outputs": [
    {
     "name": "stdout",
     "output_type": "stream",
     "text": [
      "0.7539062500000001\n",
      "0.6949152542372881\n"
     ]
    }
   ],
   "source": [
    "print(f1_score(y_train_cancer, tree_clf_d1.predict(X_train_cancer)))\n",
    "print(f1_score(y_test_cancer, tree_clf_d1.predict(X_test_cancer)))"
   ]
  },
  {
   "cell_type": "markdown",
   "id": "b2ae9784-603f-4bd2-a061-1fa6e2b77a2e",
   "metadata": {
    "id": "b2ae9784-603f-4bd2-a061-1fa6e2b77a2e"
   },
   "source": [
    "glebokosc = 2"
   ]
  },
  {
   "cell_type": "code",
   "execution_count": 209,
   "id": "57e0a13c-ddbd-448d-8d8c-310c84e0f387",
   "metadata": {
    "colab": {
     "base_uri": "https://localhost:8080/"
    },
    "id": "57e0a13c-ddbd-448d-8d8c-310c84e0f387",
    "outputId": "b86ed3a7-c168-486b-f4d3-7ad3dc863586"
   },
   "outputs": [
    {
     "name": "stdout",
     "output_type": "stream",
     "text": [
      "0.8211243611584327\n",
      "0.7887323943661971\n"
     ]
    }
   ],
   "source": [
    "f1_score_train = f1_score(y_train_cancer, tree_clf_d2.predict(X_train_cancer))\n",
    "print(f1_score_train)\n",
    "f1_score_test = f1_score(y_test_cancer, tree_clf_d2.predict(X_test_cancer))\n",
    "print(f1_score_test)"
   ]
  },
  {
   "cell_type": "markdown",
   "id": "34b5c656-12f2-4907-ad8b-21bf44584475",
   "metadata": {
    "id": "34b5c656-12f2-4907-ad8b-21bf44584475"
   },
   "source": [
    "glebokosc = 3"
   ]
  },
  {
   "cell_type": "code",
   "execution_count": 210,
   "id": "22c7081e-bc59-4850-b121-d9ceba1ab2e1",
   "metadata": {
    "colab": {
     "base_uri": "https://localhost:8080/"
    },
    "id": "22c7081e-bc59-4850-b121-d9ceba1ab2e1",
    "outputId": "f11aac79-56d3-4547-bb6a-3b76abd74692"
   },
   "outputs": [
    {
     "name": "stdout",
     "output_type": "stream",
     "text": [
      "0.8211243611584327\n",
      "0.7887323943661971\n"
     ]
    }
   ],
   "source": [
    "print(f1_score(y_train_cancer, tree_clf_d3.predict(X_train_cancer)))\n",
    "print(f1_score(y_test_cancer, tree_clf_d3.predict(X_test_cancer)))"
   ]
  },
  {
   "cell_type": "markdown",
   "id": "Zl3hri1Mybh8",
   "metadata": {
    "id": "Zl3hri1Mybh8"
   },
   "source": [
    "glebokosc = 4"
   ]
  },
  {
   "cell_type": "code",
   "execution_count": 211,
   "id": "tQFCYtNyyiD9",
   "metadata": {
    "colab": {
     "base_uri": "https://localhost:8080/"
    },
    "id": "tQFCYtNyyiD9",
    "outputId": "f3e26d89-cd7e-487d-ac43-cb0d1cd98a7b"
   },
   "outputs": [
    {
     "name": "stdout",
     "output_type": "stream",
     "text": [
      "0.8464163822525598\n",
      "0.7647058823529411\n"
     ]
    }
   ],
   "source": [
    "print(f1_score(y_train_cancer, tree_clf_d4.predict(X_train_cancer)))\n",
    "print(f1_score(y_test_cancer, tree_clf_d4.predict(X_test_cancer)))"
   ]
  },
  {
   "cell_type": "markdown",
   "id": "Fa_IMpyXyets",
   "metadata": {
    "id": "Fa_IMpyXyets"
   },
   "source": [
    "glebokosc = 5"
   ]
  },
  {
   "cell_type": "code",
   "execution_count": 212,
   "id": "niln9EzJyidM",
   "metadata": {
    "colab": {
     "base_uri": "https://localhost:8080/"
    },
    "id": "niln9EzJyidM",
    "outputId": "83df90f5-52b3-4973-ffd7-7b214a953abe"
   },
   "outputs": [
    {
     "name": "stdout",
     "output_type": "stream",
     "text": [
      "0.8710217755443886\n",
      "0.7397260273972602\n"
     ]
    }
   ],
   "source": [
    "print(f1_score(y_train_cancer, tree_clf_d5.predict(X_train_cancer)))\n",
    "print(f1_score(y_test_cancer, tree_clf_d5.predict(X_test_cancer)))"
   ]
  },
  {
   "cell_type": "markdown",
   "id": "ZUeDL07_ygRM",
   "metadata": {
    "id": "ZUeDL07_ygRM"
   },
   "source": [
    "glebokosc = 6"
   ]
  },
  {
   "cell_type": "code",
   "execution_count": 213,
   "id": "N0xaDs1Hyi48",
   "metadata": {
    "colab": {
     "base_uri": "https://localhost:8080/"
    },
    "id": "N0xaDs1Hyi48",
    "outputId": "bfe0bc18-b204-4948-f70f-183b52aad018"
   },
   "outputs": [
    {
     "name": "stdout",
     "output_type": "stream",
     "text": [
      "0.8965517241379309\n",
      "0.7310344827586208\n"
     ]
    }
   ],
   "source": [
    "print(f1_score(y_train_cancer, tree_clf_d6.predict(X_train_cancer)))\n",
    "print(f1_score(y_test_cancer, tree_clf_d6.predict(X_test_cancer)))"
   ]
  },
  {
   "cell_type": "code",
   "execution_count": 214,
   "id": "86a6f3d8-68e6-4388-b2aa-b28f5b168d3e",
   "metadata": {
    "colab": {
     "base_uri": "https://localhost:8080/",
     "height": 37
    },
    "id": "86a6f3d8-68e6-4388-b2aa-b28f5b168d3e",
    "outputId": "0ce1285b-231a-4610-91f9-080469be0b33"
   },
   "outputs": [
    {
     "data": {
      "application/vnd.google.colaboratory.intrinsic+json": {
       "type": "string"
      },
      "text/plain": [
       "'bc.png'"
      ]
     },
     "execution_count": 214,
     "metadata": {},
     "output_type": "execute_result"
    }
   ],
   "source": [
    "# zapiswyanie obrazka dla rzędu 2, bo powyżej overfitting:\n",
    "\n",
    "export_graphviz(\n",
    "        tree_clf_d2,\n",
    "        out_file=\"bc\",\n",
    "        feature_names=data_breast_cancer.feature_names[[1,8]],\n",
    "        class_names=[str(num)+\", \"+name\n",
    "                     for num,name in\n",
    "                     zip(set(y_cancer),\n",
    "                         data_breast_cancer.target_names)],\n",
    "        rounded=True,\n",
    "        filled=True\n",
    "    ) \n",
    "\n",
    "graphviz.render('dot', 'png', \"bc\")"
   ]
  },
  {
   "cell_type": "markdown",
   "id": "uKVBkgHU0G5-",
   "metadata": {
    "id": "uKVBkgHU0G5-"
   },
   "source": [
    "obliczenie accuracy dla 2 rzedu"
   ]
  },
  {
   "cell_type": "code",
   "execution_count": 215,
   "id": "GDDJcNTt0Lle",
   "metadata": {
    "id": "GDDJcNTt0Lle"
   },
   "outputs": [],
   "source": [
    "from sklearn.metrics import accuracy_score\n",
    "acc_train = accuracy_score(y_train_cancer, tree_clf_d2.predict(X_train_cancer))\n",
    "acc_test = accuracy_score(y_test_cancer, tree_clf_d2.predict(X_test_cancer))"
   ]
  },
  {
   "cell_type": "markdown",
   "id": "s-WDtzLyxtQd",
   "metadata": {
    "id": "s-WDtzLyxtQd"
   },
   "source": [
    "zapisanie pliku pickle:"
   ]
  },
  {
   "cell_type": "code",
   "execution_count": 216,
   "id": "KGu7oBDPxyto",
   "metadata": {
    "colab": {
     "base_uri": "https://localhost:8080/"
    },
    "id": "KGu7oBDPxyto",
    "outputId": "0ffbfd64-0021-408a-a0b1-8b33925bd67a"
   },
   "outputs": [
    {
     "name": "stdout",
     "output_type": "stream",
     "text": [
      "[2.0, 0.8211243611584327, 0.7887323943661971, 0.7692307692307693, 0.7368421052631579]\n"
     ]
    }
   ],
   "source": [
    "import pickle\n",
    "\n",
    "f1acc_tree = [2.0, f1_score_train, f1_score_test, acc_train, acc_test]\n",
    "print(f1acc_tree)\n",
    "with open('f1acc_tree.pkl','wb') as f: pickle.dump(f1acc_tree, f)"
   ]
  },
  {
   "cell_type": "markdown",
   "id": "Jzzw-s3K1D1V",
   "metadata": {
    "id": "Jzzw-s3K1D1V"
   },
   "source": [
    "# Regresja"
   ]
  },
  {
   "cell_type": "markdown",
   "id": "bPjgmR7I3Wzd",
   "metadata": {
    "id": "bPjgmR7I3Wzd"
   },
   "source": [
    "Podział na zbiór uczący i testujący"
   ]
  },
  {
   "cell_type": "code",
   "execution_count": 217,
   "id": "kVPAk49v75QG",
   "metadata": {
    "id": "kVPAk49v75QG"
   },
   "outputs": [],
   "source": [
    "X_df = df[[\"x\"]].copy()\n",
    "y_df = df[[\"y\"]].copy()"
   ]
  },
  {
   "cell_type": "code",
   "execution_count": 218,
   "id": "G5tgNnmB1O8_",
   "metadata": {
    "id": "G5tgNnmB1O8_"
   },
   "outputs": [],
   "source": [
    "X_train_df, X_test_df, y_train_df, y_test_df = train_test_split(X_df, y_df, test_size=0.20, random_state=42)"
   ]
  },
  {
   "cell_type": "markdown",
   "id": "t7336BWK9e3P",
   "metadata": {
    "id": "t7336BWK9e3P"
   },
   "source": [
    "regresor i MSE"
   ]
  },
  {
   "cell_type": "code",
   "execution_count": 219,
   "id": "tlgstdgg9hd6",
   "metadata": {
    "id": "tlgstdgg9hd6"
   },
   "outputs": [],
   "source": [
    "from sklearn.tree import DecisionTreeRegressor\n",
    "from sklearn.metrics import mean_squared_error #MSE"
   ]
  },
  {
   "cell_type": "code",
   "execution_count": 220,
   "id": "GtukT3ad3kcf",
   "metadata": {
    "colab": {
     "base_uri": "https://localhost:8080/"
    },
    "id": "GtukT3ad3kcf",
    "outputId": "eacb2ea6-1ead-4f17-a138-545201e71bd1"
   },
   "outputs": [
    {
     "name": "stdout",
     "output_type": "stream",
     "text": [
      "111.76189188646065 104.71603450663379 d= 1\n",
      "75.7709914570045 79.4200480137039 d= 2\n",
      "59.096647727215924 81.11647149192409 d= 3\n",
      "49.85794527108566 83.7324778788598 d= 4\n",
      "41.725305835240306 86.97584179997533 d= 5\n",
      "37.42026959324587 92.58664200287107 d= 6\n",
      "32.71476203200167 92.46074379139608 d= 7\n",
      "24.338981037416648 119.49088546912552 d= 8\n",
      "17.367989518311106 141.38059776848925 d= 9\n",
      "9.928880585182318 141.97131064220068 d= 10\n"
     ]
    }
   ],
   "source": [
    "for i in range(10):\n",
    "  tree_reg = DecisionTreeRegressor(max_depth=i+1)\n",
    "  tree_reg.fit(X_train_df, y_train_df)\n",
    "\n",
    "  mse_train = mean_squared_error(y_train_df, tree_reg.predict(X_train_df[[\"x\"]]))\n",
    "  mse_test = mean_squared_error(y_test_df, tree_reg.predict(X_test_df[[\"x\"]]))\n",
    "\n",
    "  print(mse_train, mse_test, \"d=\", i+1)"
   ]
  },
  {
   "cell_type": "markdown",
   "id": "VRSvp9fk-8l6",
   "metadata": {
    "id": "VRSvp9fk-8l6"
   },
   "source": [
    "najlepszy regresor jest dla d=4 (pozniej overfitting)"
   ]
  },
  {
   "cell_type": "code",
   "execution_count": 221,
   "id": "HnSEzDXj-76K",
   "metadata": {
    "colab": {
     "base_uri": "https://localhost:8080/"
    },
    "id": "HnSEzDXj-76K",
    "outputId": "583daf07-cc52-420c-9a4b-0dc0245e3ec6"
   },
   "outputs": [
    {
     "name": "stdout",
     "output_type": "stream",
     "text": [
      "49.85794527108566 83.7324778788598\n"
     ]
    }
   ],
   "source": [
    "tree_reg = DecisionTreeRegressor(max_depth = 4)\n",
    "tree_reg.fit(X_train_df, y_train_df)\n",
    "\n",
    "mse_train = mean_squared_error(y_train_df, tree_reg.predict(X_train_df[[\"x\"]]))\n",
    "mse_test = mean_squared_error(y_test_df, tree_reg.predict(X_test_df[[\"x\"]]))\n",
    "\n",
    "print(mse_train, mse_test)"
   ]
  },
  {
   "cell_type": "code",
   "execution_count": 222,
   "id": "Q0JHrq66_Tyq",
   "metadata": {
    "colab": {
     "base_uri": "https://localhost:8080/",
     "height": 37
    },
    "id": "Q0JHrq66_Tyq",
    "outputId": "b34d4526-d737-4a16-f4ee-4b04412d1943"
   },
   "outputs": [
    {
     "data": {
      "application/vnd.google.colaboratory.intrinsic+json": {
       "type": "string"
      },
      "text/plain": [
       "'reg.png'"
      ]
     },
     "execution_count": 222,
     "metadata": {},
     "output_type": "execute_result"
    }
   ],
   "source": [
    "export_graphviz(\n",
    "        tree_reg,\n",
    "        out_file=\"reg\",\n",
    "        rounded=True,\n",
    "        filled=True\n",
    "    ) \n",
    "\n",
    "graphviz.render('dot', 'png', \"reg\")"
   ]
  },
  {
   "cell_type": "code",
   "execution_count": 223,
   "id": "x6eBzS3BAzZK",
   "metadata": {
    "colab": {
     "base_uri": "https://localhost:8080/"
    },
    "id": "x6eBzS3BAzZK",
    "outputId": "23610c89-d5bd-453b-d208-53d56b2752df"
   },
   "outputs": [
    {
     "name": "stdout",
     "output_type": "stream",
     "text": [
      "[4.0, 49.85794527108566, 83.7324778788598]\n"
     ]
    }
   ],
   "source": [
    "import pickle\n",
    "\n",
    "mse_tree = [4.0, mse_train, mse_test]\n",
    "print(mse_tree)\n",
    "with open('mse_tree.pkl','wb') as f: pickle.dump(mse_tree, f)"
   ]
  }
 ],
 "metadata": {
  "colab": {
   "collapsed_sections": [],
   "name": "lab5.ipynb",
   "provenance": []
  },
  "kernelspec": {
   "display_name": "Python 3 (ipykernel)",
   "language": "python",
   "name": "python3"
  },
  "language_info": {
   "codemirror_mode": {
    "name": "ipython",
    "version": 3
   },
   "file_extension": ".py",
   "mimetype": "text/x-python",
   "name": "python",
   "nbconvert_exporter": "python",
   "pygments_lexer": "ipython3",
   "version": "3.9.12"
  }
 },
 "nbformat": 4,
 "nbformat_minor": 5
}
