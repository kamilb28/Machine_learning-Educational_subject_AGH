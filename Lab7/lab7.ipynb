{
 "cells": [
  {
   "cell_type": "markdown",
   "id": "d448c50f-bde8-4e04-b7f1-525f53ad3c3b",
   "metadata": {},
   "source": [
    "# Lab7 - Klasteryzacja"
   ]
  },
  {
   "cell_type": "markdown",
   "id": "9f00465f-4a5e-4d2c-a51a-12954b5da458",
   "metadata": {},
   "source": [
    "### Przygotowanie danych:"
   ]
  },
  {
   "cell_type": "code",
   "execution_count": 1,
   "id": "a793b7d9-7397-4a95-a6ea-1e7ba4deef5e",
   "metadata": {},
   "outputs": [],
   "source": [
    "from sklearn.datasets import fetch_openml \n",
    "import numpy as np\n",
    "mnist = fetch_openml('mnist_784', version=1, as_frame=False)\n",
    "mnist.target = mnist.target.astype(np.uint8)\n",
    "X = mnist[\"data\"]\n",
    "y = mnist[\"target\"]"
   ]
  },
  {
   "cell_type": "markdown",
   "id": "7650334a-8fe7-4565-a002-fb6b9c14a9db",
   "metadata": {},
   "source": [
    "### Klasteryzacja"
   ]
  },
  {
   "cell_type": "code",
   "execution_count": 2,
   "id": "b3bcd456-75dd-4ec2-b969-fbfb1d74aea8",
   "metadata": {},
   "outputs": [],
   "source": [
    "from sklearn.cluster import KMeans\n",
    "from sklearn.metrics import silhouette_score"
   ]
  },
  {
   "cell_type": "code",
   "execution_count": 3,
   "id": "1d99fd17-feb5-4afb-aa7a-6b0d5dd2c796",
   "metadata": {},
   "outputs": [],
   "source": [
    "kmeans_sil = []\n",
    "y_pred_forTen = 0\n",
    "\n",
    "for k in range(8, 13): \n",
    "    kmeans = KMeans(n_clusters=k, random_state=42)\n",
    "    y_pred = kmeans.fit_predict(X)\n",
    "    if k == 10:\n",
    "        y_pred_forTen = y_pred\n",
    "    sil_scr = silhouette_score(X, y_pred)\n",
    "    kmeans_sil.append(sil_scr)"
   ]
  },
  {
   "cell_type": "code",
   "execution_count": 4,
   "id": "a898eab6-8dec-4011-9d03-e70abb5f4018",
   "metadata": {},
   "outputs": [
    {
     "name": "stdout",
     "output_type": "stream",
     "text": [
      "[0.07338401965925966, 0.05683381826333592, 0.05869201052848778, 0.05836351154790604, 0.05894738457992754]\n"
     ]
    }
   ],
   "source": [
    "import pickle\n",
    "with open('kmeans_sil.pkl','wb') as f: pickle.dump(kmeans_sil, f)\n",
    "\n",
    "#sprawdzenie zawartosci pliku\n",
    "with open('kmeans_sil.pkl','rb') as f: print(pickle.load(f))"
   ]
  },
  {
   "cell_type": "markdown",
   "id": "27241faf-149d-463c-940c-26d677fbc8d7",
   "metadata": {},
   "source": [
    "score powinien być największy dla -> 10 <-"
   ]
  },
  {
   "cell_type": "code",
   "execution_count": 5,
   "id": "7f6ac8e6-5be9-4fea-82f4-385002040e5a",
   "metadata": {},
   "outputs": [
    {
     "name": "stdout",
     "output_type": "stream",
     "text": [
      "[[ 290    2 1265   39    9    7  162    4   72 5053]\n",
      " [   8 4293    7    7   10   11    7 3526    8    0]\n",
      " [ 323  423  246  216 4863   78  147  436  201   57]\n",
      " [4581  449  461  193  216   45   31   58 1083   24]\n",
      " [   0  178  288 3728   29 2173  168  234   17    9]\n",
      " [2129  155 1812  432    7  215   67  280 1156   60]\n",
      " [  38  190 2068   67   53    4 4326   45   14   71]\n",
      " [   6  372   12 2094   53 4399    4  314   18   21]\n",
      " [1212  335  292  208   53  193   51  330 4115   36]\n",
      " [  87  261   31 3462   19 2849   16   95   87   51]]\n",
      "[9 1 4 0 3 0 6 5 8 3]\n"
     ]
    }
   ],
   "source": [
    "from sklearn.metrics import confusion_matrix\n",
    "\n",
    "conf_matrix = confusion_matrix(y, y_pred_forTen)\n",
    "print(conf_matrix)\n",
    "\n",
    "argmax = np.argmax(conf_matrix, axis=1)\n",
    "print(argmax)"
   ]
  },
  {
   "cell_type": "code",
   "execution_count": 6,
   "id": "bdb0a7bd-1747-49f2-885d-60c2b809a651",
   "metadata": {},
   "outputs": [],
   "source": [
    "kmeans_argmax = []\n",
    "\n",
    "for row, index in zip(conf_matrix, argmax):\n",
    "    kmeans_argmax.append(row[index])\n",
    "\n",
    "kmeans_argmax = list(set(kmeans_argmax))\n",
    "kmeans_argmax.sort()"
   ]
  },
  {
   "cell_type": "code",
   "execution_count": 7,
   "id": "8beb8b50-7316-4f57-8d2c-52aee3430fd3",
   "metadata": {},
   "outputs": [
    {
     "name": "stdout",
     "output_type": "stream",
     "text": [
      "[2129, 3462, 3728, 4115, 4293, 4326, 4399, 4581, 4863, 5053]\n"
     ]
    }
   ],
   "source": [
    "with open('kmeans_argmax.pkl','wb') as f: pickle.dump(kmeans_argmax, f)\n",
    "\n",
    "#sprawdzenie zawartosci pliku\n",
    "with open('kmeans_argmax.pkl','rb') as f: print(pickle.load(f))"
   ]
  },
  {
   "cell_type": "markdown",
   "id": "2916b4e9-0c7d-45f9-bb22-e6b18f9c35d1",
   "metadata": {},
   "source": [
    "### DBSCAN"
   ]
  },
  {
   "cell_type": "code",
   "execution_count": 8,
   "id": "37d24bde-d4a9-4f97-89b0-05fe693e9523",
   "metadata": {},
   "outputs": [],
   "source": [
    "dist_long = np.array([])\n",
    "for i in range(0,301):\n",
    "    for j in range(i+1,301):\n",
    "        x1 = X[i]\n",
    "        x2 = X[j]\n",
    "        dist_long = np.append(dist_long, np.linalg.norm(x1-x2))"
   ]
  },
  {
   "cell_type": "code",
   "execution_count": 9,
   "id": "9e351da7-6406-42f1-b7ad-e7fedd5b0bea",
   "metadata": {},
   "outputs": [],
   "source": [
    "dist = []\n",
    "for i in np.sort(dist_long)[:10]:\n",
    "    dist.append(i)"
   ]
  },
  {
   "cell_type": "code",
   "execution_count": 10,
   "id": "bf462be1-1e6b-4266-827e-e552894219aa",
   "metadata": {},
   "outputs": [
    {
     "name": "stdout",
     "output_type": "stream",
     "text": [
      "[419.583126448145, 524.325280717991, 636.2460215985637, 638.289902787127, 638.4520342202694, 653.3475338592776, 669.5827058698575, 703.4898719953259, 723.5613311945298, 739.4200430066796]\n"
     ]
    }
   ],
   "source": [
    "with open('dist.pkl','wb') as f: pickle.dump(dist, f)\n",
    "\n",
    "#sprawdzenie zawartosci pliku\n",
    "with open('dist.pkl','rb') as f: print(pickle.load(f))"
   ]
  },
  {
   "cell_type": "code",
   "execution_count": 11,
   "id": "3e43fe7c-7b83-4b68-b394-e46300e6d58c",
   "metadata": {},
   "outputs": [],
   "source": [
    "s = np.mean(np.sort(dist_long)[:3])"
   ]
  },
  {
   "cell_type": "markdown",
   "id": "f9e8b8df-df9e-46ac-8f4d-5cb8619a9b11",
   "metadata": {},
   "source": [
    "eps -> [ s , ... , s+10%s ]   krok co 4%s"
   ]
  },
  {
   "cell_type": "code",
   "execution_count": 12,
   "id": "f7b311f2-068d-43a1-8664-7208b9023d35",
   "metadata": {},
   "outputs": [
    {
     "name": "stdout",
     "output_type": "stream",
     "text": [
      "[-1 -1 -1 ... -1 -1 -1]\n",
      "[-1 -1 -1 ... -1 -1 -1]\n",
      "[-1 -1 -1 ... -1 -1 -1]\n"
     ]
    }
   ],
   "source": [
    "from sklearn.cluster import DBSCAN\n",
    "\n",
    "dbscan_len = []\n",
    "\n",
    "def counter(a):\n",
    "    b = []\n",
    "    count = 0\n",
    "    for i in a:\n",
    "        if not i in b:\n",
    "            count += 1\n",
    "            b.append(i)\n",
    "    return count\n",
    "\n",
    "for eps in [s, s+.04*s, s+.08*s]:\n",
    "    dbscan = DBSCAN(eps)\n",
    "    dbscan.fit(X)\n",
    "    print(dbscan.labels_)\n",
    "    dbscan_len.append(counter(dbscan.labels_))"
   ]
  },
  {
   "cell_type": "code",
   "execution_count": 13,
   "id": "58b5b015-5e53-45ca-b67e-c2723ba0d56e",
   "metadata": {},
   "outputs": [
    {
     "name": "stdout",
     "output_type": "stream",
     "text": [
      "[10, 12, 5]\n"
     ]
    }
   ],
   "source": [
    "with open('dbscan_len.pkl','wb') as f: pickle.dump(dbscan_len, f)\n",
    "\n",
    "#sprawdzenie zawartosci pliku\n",
    "with open('dbscan_len.pkl','rb') as f: print(pickle.load(f))"
   ]
  }
 ],
 "metadata": {
  "kernelspec": {
   "display_name": "Python 3 (ipykernel)",
   "language": "python",
   "name": "python3"
  },
  "language_info": {
   "codemirror_mode": {
    "name": "ipython",
    "version": 3
   },
   "file_extension": ".py",
   "mimetype": "text/x-python",
   "name": "python",
   "nbconvert_exporter": "python",
   "pygments_lexer": "ipython3",
   "version": "3.9.12"
  }
 },
 "nbformat": 4,
 "nbformat_minor": 5
}
