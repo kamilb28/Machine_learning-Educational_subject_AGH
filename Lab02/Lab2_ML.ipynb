{
 "cells": [
  {
   "cell_type": "markdown",
   "id": "ca02096b-1105-4377-9bbe-19cb2d167061",
   "metadata": {},
   "source": [
    "2. Przygotowanie Danych"
   ]
  },
  {
   "cell_type": "code",
   "execution_count": null,
   "id": "acbceeb8-ed2a-44d5-975c-7451e2585206",
   "metadata": {},
   "outputs": [],
   "source": [
    "from sklearn.datasets import fetch_openml\n",
    "mnist = fetch_openml('mnist_784', version=1)"
   ]
  },
  {
   "cell_type": "markdown",
   "id": "bab290f4-6ee3-4b7a-b7cb-eb71a315a7a5",
   "metadata": {},
   "source": [
    "Obejrzyj zbiory cech oraz etykiet w pobranym zbiorze danych."
   ]
  },
  {
   "cell_type": "code",
   "execution_count": null,
   "id": "57191979-58ec-4c80-a057-38fa3bdc173d",
   "metadata": {},
   "outputs": [],
   "source": [
    "print(mnist.keys())"
   ]
  },
  {
   "cell_type": "markdown",
   "id": "f1bfdffd-d0f1-4f62-97fb-7ed294f0927a",
   "metadata": {},
   "source": [
    "przykładową „bitmapę” na miejscu 12"
   ]
  },
  {
   "cell_type": "code",
   "execution_count": null,
   "id": "f2e8518c-68e4-41a0-bdf7-47858280bdab",
   "metadata": {},
   "outputs": [],
   "source": [
    "import numpy as np\n",
    "import pandas as pd\n",
    "print((np.array(mnist.data.loc[12]).reshape(28, 28) > 0).astype(int))"
   ]
  },
  {
   "cell_type": "markdown",
   "id": "9ad3960a-d2d6-4b25-a23d-80590f7c0851",
   "metadata": {},
   "source": [
    "3. Zbior uczacy i testowy\n",
    "Posortuj oba zbiory tak, aby rekordy były uporządkowane według cyfry którą reprezentują."
   ]
  },
  {
   "cell_type": "code",
   "execution_count": null,
   "id": "37c2d2a3-7f7e-4849-9858-1156347f9c86",
   "metadata": {},
   "outputs": [],
   "source": [
    "X, y = mnist[\"data\"], mnist[\"target\"].astype(np.uint8)\n",
    "\n",
    "y_sorted = y.sort_values()\n",
    "X_sorted = X.reindex(y_sorted.index)"
   ]
  },
  {
   "cell_type": "code",
   "execution_count": null,
   "id": "909b3219-076d-4bc6-8344-dba6b7d7a4e4",
   "metadata": {},
   "outputs": [],
   "source": [
    "X_train_s, X_test_s = X_sorted[:56000], X_sorted[56000:]\n",
    "y_train_s, y_test_s = y_sorted[:56000], y_sorted[56000:]\n",
    "print(X_train_s.shape, y_train_s.shape)\n",
    "print(X_test_s.shape, y_test_s.shape)"
   ]
  },
  {
   "cell_type": "markdown",
   "id": "c67fd077-824b-4357-8ebd-a75f6cb8b19e",
   "metadata": {},
   "source": [
    "Sprawdź jakie klasy znajdują się w zbiorach.\n",
    "Jak widzać poniżej przez podział na zbiory posortowane, zbiór treningowy i testowy mają inne liczby w sobie."
   ]
  },
  {
   "cell_type": "code",
   "execution_count": null,
   "id": "cc862548-ecd5-4360-8c7a-71c1a57d05c9",
   "metadata": {},
   "outputs": [],
   "source": [
    "print(np.unique(y_train_s.values))\n",
    "print(np.unique(y_test_s.values))"
   ]
  },
  {
   "cell_type": "code",
   "execution_count": null,
   "id": "f264bd82-9499-462b-a48c-4f34a4a445bc",
   "metadata": {},
   "outputs": [],
   "source": [
    "from sklearn.model_selection import train_test_split\n",
    "X_train, X_test, y_train, y_test = train_test_split(X_sorted, y_sorted, test_size=0.20, random_state=42)"
   ]
  },
  {
   "cell_type": "markdown",
   "id": "7772b9c2",
   "metadata": {},
   "source": [
    "Teraz na nowo je wymieszaliśmy i w obu zbiorach znajdują się rózne liczby:"
   ]
  },
  {
   "cell_type": "code",
   "execution_count": null,
   "id": "758abbcd-7f5b-4871-91c4-13a84c65b26b",
   "metadata": {},
   "outputs": [],
   "source": [
    "print(np.unique(y_train.values))\n",
    "print(np.unique(y_test.values))"
   ]
  },
  {
   "cell_type": "code",
   "execution_count": null,
   "id": "c52d5f08-3736-47da-a689-58fbb25a770b",
   "metadata": {},
   "outputs": [],
   "source": [
    "print(X_train.shape, y_train.shape)\n",
    "print(X_test.shape, y_test.shape)"
   ]
  },
  {
   "cell_type": "markdown",
   "id": "cb5b6463-4db9-4f64-b02a-92f373ed3cd7",
   "metadata": {},
   "source": [
    "4. Uczenie, jedna klasa"
   ]
  },
  {
   "cell_type": "code",
   "execution_count": null,
   "id": "385a7ee8-5bd6-49e8-8659-4de65d7c688b",
   "metadata": {},
   "outputs": [],
   "source": [
    "y_train_0 = (y_train == 0)\n",
    "y_test_0 = (y_test == 0)"
   ]
  },
  {
   "cell_type": "code",
   "execution_count": null,
   "id": "48d75a1a-25a2-4119-9168-73c7f51eb786",
   "metadata": {},
   "outputs": [],
   "source": [
    "from sklearn.linear_model import SGDClassifier\n",
    "sgd_clf = SGDClassifier(random_state=42)\n",
    "sgd_clf.fit(X_train, y_train_0)\n"
   ]
  },
  {
   "cell_type": "code",
   "execution_count": null,
   "id": "907e54bd",
   "metadata": {},
   "outputs": [],
   "source": [
    "print(sgd_clf.predict(mnist.data)[33:36])\n",
    "print(mnist.target[33:36])"
   ]
  },
  {
   "cell_type": "code",
   "execution_count": null,
   "id": "ed1967d3",
   "metadata": {},
   "outputs": [],
   "source": [
    "from sklearn.model_selection import cross_val_predict\n",
    "from sklearn.metrics import confusion_matrix\n",
    "from sklearn.model_selection import cross_val_predict, cross_val_score\n",
    "from sklearn.metrics import confusion_matrix, precision_score, recall_score\n",
    "\n",
    "y_train_pred = cross_val_predict(sgd_clf, X_train, y_train_0, cv=3, n_jobs=-1)\n",
    "print(y_train_pred)\n",
    "print(len(y_train_pred))"
   ]
  },
  {
   "cell_type": "code",
   "execution_count": null,
   "id": "4470bf2c",
   "metadata": {},
   "outputs": [],
   "source": [
    "import pickle\n",
    "acc = [sgd_clf.score(X_train, y_train_0), sgd_clf.score(X_test, y_test_0)]\n",
    "print(acc)\n",
    "with open('sgd_acc.pkl', 'wb') as f:\n",
    "    pickle.dump(acc, f, pickle.HIGHEST_PROTOCOL)"
   ]
  },
  {
   "cell_type": "code",
   "execution_count": null,
   "id": "20d614bb",
   "metadata": {},
   "outputs": [],
   "source": [
    "score = cross_val_score(sgd_clf, X_train, y_train_0, cv=3, scoring=\"accuracy\", n_jobs=-1)\n",
    "print(score)\n",
    "with open('sgd_cva.pkl','wb') as f: pickle.dump(score, f)"
   ]
  },
  {
   "cell_type": "code",
   "execution_count": null,
   "id": "d459a29c",
   "metadata": {},
   "outputs": [],
   "source": [
    "print(confusion_matrix(y_train_0, y_train_pred))"
   ]
  },
  {
   "cell_type": "markdown",
   "id": "7e890847",
   "metadata": {},
   "source": [
    "5. Uczenie, wiele klas"
   ]
  },
  {
   "cell_type": "code",
   "execution_count": null,
   "id": "01ab6159",
   "metadata": {
    "scrolled": true
   },
   "outputs": [],
   "source": [
    "sgd_m_clf = SGDClassifier(random_state=42)\n",
    "sgd_m_clf.fit(X_train, y_train)"
   ]
  },
  {
   "cell_type": "code",
   "execution_count": null,
   "id": "119b9675",
   "metadata": {},
   "outputs": [],
   "source": [
    "\n",
    "print(cross_val_score(sgd_m_clf, X_train, y_train,cv=3, scoring=\"accuracy\", n_jobs=-1))\n",
    "y_train_pred = cross_val_predict(sgd_m_clf, X_train, y_train, cv=3, n_jobs=-1)"
   ]
  },
  {
   "cell_type": "code",
   "execution_count": null,
   "id": "00f00ccd",
   "metadata": {},
   "outputs": [],
   "source": [
    "conf_mx = confusion_matrix(y_train, y_train_pred)\n",
    "print(conf_mx)"
   ]
  },
  {
   "cell_type": "code",
   "execution_count": null,
   "id": "f1bdfa12",
   "metadata": {},
   "outputs": [],
   "source": [
    "with open('sgd_cmx.pkl','wb') as f: pickle.dump(conf_mx, f)"
   ]
  }
 ],
 "metadata": {
  "kernelspec": {
   "display_name": "Python 3 (ipykernel)",
   "language": "python",
   "name": "python3"
  },
  "language_info": {
   "codemirror_mode": {
    "name": "ipython",
    "version": 3
   },
   "file_extension": ".py",
   "mimetype": "text/x-python",
   "name": "python",
   "nbconvert_exporter": "python",
   "pygments_lexer": "ipython3",
   "version": "3.9.12"
  }
 },
 "nbformat": 4,
 "nbformat_minor": 5
}
